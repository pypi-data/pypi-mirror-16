{
 "metadata": {
  "name": "",
  "signature": "sha256:6b72ea3cc61f3a7c9b432f91b4ca5ca367de06435d755a2f72dda7619be4792d"
 },
 "nbformat": 3,
 "nbformat_minor": 0,
 "worksheets": [
  {
   "cells": [
    {
     "cell_type": "markdown",
     "metadata": {},
     "source": [
      "# Introduction\n",
      "\n",
      "This notebook will generate test graphs for testing with Circos plots."
     ]
    },
    {
     "cell_type": "code",
     "collapsed": false,
     "input": [
      "import networkx as nx"
     ],
     "language": "python",
     "metadata": {},
     "outputs": [],
     "prompt_number": 1
    },
    {
     "cell_type": "code",
     "collapsed": false,
     "input": [
      "G = nx.Graph()\n",
      "\n",
      "# Add nodes from 0 to 29\n",
      "for i in range(0, 30):\n",
      "    G.add_node(i, time=i)\n",
      "    \n",
      "# Add in edges from i to i + 2.\n",
      "for i in G.nodes():\n",
      "    if i + 2 in G.nodes():\n",
      "        G.add_edge(i, i+2)"
     ],
     "language": "python",
     "metadata": {},
     "outputs": [],
     "prompt_number": 2
    },
    {
     "cell_type": "code",
     "collapsed": false,
     "input": [
      "G.edges()"
     ],
     "language": "python",
     "metadata": {},
     "outputs": [
      {
       "metadata": {},
       "output_type": "pyout",
       "prompt_number": 4,
       "text": [
        "[(0, 2),\n",
        " (1, 3),\n",
        " (2, 4),\n",
        " (3, 5),\n",
        " (4, 6),\n",
        " (5, 7),\n",
        " (6, 8),\n",
        " (7, 9),\n",
        " (8, 10),\n",
        " (9, 11),\n",
        " (10, 12),\n",
        " (11, 13),\n",
        " (12, 14),\n",
        " (13, 15),\n",
        " (14, 16),\n",
        " (15, 17),\n",
        " (16, 18),\n",
        " (17, 19),\n",
        " (18, 20),\n",
        " (19, 21),\n",
        " (20, 22),\n",
        " (21, 23),\n",
        " (22, 24),\n",
        " (23, 25),\n",
        " (24, 26),\n",
        " (25, 27),\n",
        " (26, 28),\n",
        " (27, 29)]"
       ]
      }
     ],
     "prompt_number": 4
    },
    {
     "cell_type": "code",
     "collapsed": false,
     "input": [
      "nx.write_gpickle(G, 'interval_network.pkl')"
     ],
     "language": "python",
     "metadata": {},
     "outputs": [],
     "prompt_number": 5
    },
    {
     "cell_type": "code",
     "collapsed": false,
     "input": [],
     "language": "python",
     "metadata": {},
     "outputs": []
    }
   ],
   "metadata": {}
  }
 ]
}