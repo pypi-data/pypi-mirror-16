{
 "cells": [
  {
   "cell_type": "markdown",
   "metadata": {},
   "source": [
    "## Automation\n",
    "Nothing too fancy here."
   ]
  },
  {
   "cell_type": "code",
   "execution_count": 20,
   "metadata": {
    "collapsed": false
   },
   "outputs": [
    {
     "name": "stdout",
     "output_type": "stream",
     "text": [
      "Overwriting setup.py\n"
     ]
    }
   ],
   "source": [
    "%%file setup.py\n",
    "import os\n",
    "from setuptools import setup\n",
    "\n",
    "\n",
    "def read(fname):\n",
    "    \"\"\"\n",
    "    Utility function to read the README file.\n",
    "    Used for the long_description.  It's nice, because now 1) we have a top\n",
    "    level README file and 2) it's easier to type in the README file than to put\n",
    "    a raw string in below ...\n",
    "    \"\"\"\n",
    "    with open(os.path.join(os.path.dirname(__file__), fname)) as f:\n",
    "        return f.read()\n",
    "\n",
    "\n",
    "setup(\n",
    "    name=\"whatever-forever\",\n",
    "    version=\"0.0.5\",\n",
    "    author=\"Tony Fast\",\n",
    "    author_email=\"tony.fast@gmail.com\",\n",
    "    description=\"prototype whatever in the Jupyter notebook\",\n",
    "    license=\"BSD\",\n",
    "    keywords=\"IPython Magic Jupyter\",\n",
    "    url=\"http://github.com/tonyfast/whatever-forever\",\n",
    "    py_modules=[\"whatever-forever\"],\n",
    "    long_description=read(\"README.rst\"),\n",
    "    classifiers=[\n",
    "        \"Topic :: Utilities\",\n",
    "        \"Framework :: IPython\",\n",
    "        \"Natural Language :: English\",\n",
    "        \"Programming Language :: Python\",\n",
    "        \"Intended Audience :: Developers\",\n",
    "        \"Development Status :: 3 - Alpha\",\n",
    "        \"Operating System :: OS Independent\",\n",
    "        \"Programming Language :: Python :: 3\",\n",
    "        \"License :: OSI Approved :: BSD License\",\n",
    "        \"Topic :: Software Development :: Testing\",\n",
    "    ],\n",
    "    install_requires=[\n",
    "        \"toolz\",\n",
    "    ]\n",
    ")\n"
   ]
  },
  {
   "cell_type": "code",
   "execution_count": 21,
   "metadata": {
    "collapsed": false
   },
   "outputs": [
    {
     "name": "stdout",
     "output_type": "stream",
     "text": [
      "[NbConvertApp] Converting notebook source/__init__.ipynb to python\n",
      "[NbConvertApp] Writing 1636 bytes to source/__init__.py\n",
      "[NbConvertApp] Converting notebook source/chain.ipynb to python\n",
      "[NbConvertApp] Writing 7287 bytes to source/chain.py\n",
      "[NbConvertApp] Converting notebook source/magic.ipynb to python\n",
      "[NbConvertApp] Writing 2896 bytes to source/magic.py\n",
      "[NbConvertApp] Converting notebook source/__init__.ipynb to rst\n",
      "[NbConvertApp] Writing 1719 bytes to source/__init__.rst\n"
     ]
    }
   ],
   "source": [
    "!jupyter nbconvert --to python source/__init__.ipynb\n",
    "!jupyter nbconvert --to python source/chain.ipynb\n",
    "!jupyter nbconvert --to python source/magic.ipynb\n",
    "!cp source/__init__.py whatever4e/__init__.py\n",
    "!cp source/magic.py whatever4e/magic.py\n",
    "!cp source/chain.py whatever4e/chain.py\n",
    "!cp source/class_maker.py whatever4e/class_maker.py\n",
    "\n",
    "!jupyter nbconvert --to rst source/__init__.ipynb\n",
    "!cp source/__init__.rst README.rst\n",
    "\n",
    "from glob import glob\n",
    "\n",
    "for the_script in glob('whatever4e/*.py'):\n",
    "    with open(the_script,'r') as f:\n",
    "        src = f.read()\n",
    "    with open(the_script,'w') as f:\n",
    "        f.write(src.replace(\n",
    "                'from class_maker import',\n",
    "                'from .class_maker import'\n",
    "            ))\n",
    "        \n",
    "# !python setup.py install"
   ]
  },
  {
   "cell_type": "markdown",
   "metadata": {},
   "source": [
    "### Run tests"
   ]
  },
  {
   "cell_type": "code",
   "execution_count": 22,
   "metadata": {
    "collapsed": false
   },
   "outputs": [],
   "source": [
    "# !python setup.py test"
   ]
  },
  {
   "cell_type": "markdown",
   "metadata": {},
   "source": [
    "### Check code style"
   ]
  },
  {
   "cell_type": "code",
   "execution_count": 23,
   "metadata": {
    "collapsed": false
   },
   "outputs": [],
   "source": [
    "# !flake8"
   ]
  },
  {
   "cell_type": "markdown",
   "metadata": {},
   "source": [
    "## Test Release for PyPi"
   ]
  },
  {
   "cell_type": "code",
   "execution_count": null,
   "metadata": {
    "collapsed": false,
    "scrolled": false
   },
   "outputs": [
    {
     "name": "stdout",
     "output_type": "stream",
     "text": [
      "running register\n",
      "running egg_info\n",
      "writing top-level names to whatever_forever.egg-info/top_level.txt\n",
      "writing whatever_forever.egg-info/PKG-INFO\n",
      "writing requirements to whatever_forever.egg-info/requires.txt\n",
      "writing dependency_links to whatever_forever.egg-info/dependency_links.txt\n",
      "file whatever-forever.py (for module whatever-forever) not found\n",
      "reading manifest file 'whatever_forever.egg-info/SOURCES.txt'\n",
      "reading manifest template 'MANIFEST.in'\n",
      "warning: no files found matching '*.md'\n",
      "warning: no files found matching '*.ipynb' under directory 'tests/'\n",
      "writing manifest file 'whatever_forever.egg-info/SOURCES.txt'\n",
      "running check\n",
      "Registering whatever-forever to https://testpypi.python.org/pypi\n",
      "Server response (200): OK\n",
      "running sdist\n",
      "running egg_info\n",
      "writing dependency_links to whatever_forever.egg-info/dependency_links.txt\n",
      "writing whatever_forever.egg-info/PKG-INFO\n",
      "writing top-level names to whatever_forever.egg-info/top_level.txt\n",
      "writing requirements to whatever_forever.egg-info/requires.txt\n",
      "file whatever-forever.py (for module whatever-forever) not found\n",
      "reading manifest file 'whatever_forever.egg-info/SOURCES.txt'\n",
      "reading manifest template 'MANIFEST.in'\n",
      "warning: no files found matching '*.md'\n",
      "warning: no files found matching '*.ipynb' under directory 'tests/'\n",
      "writing manifest file 'whatever_forever.egg-info/SOURCES.txt'\n",
      "running check\n",
      "creating whatever-forever-0.0.5\n",
      "creating whatever-forever-0.0.5/whatever_forever.egg-info\n",
      "making hard links in whatever-forever-0.0.5...\n",
      "hard linking Automation.ipynb -> whatever-forever-0.0.5\n",
      "hard linking LICENSE -> whatever-forever-0.0.5\n",
      "hard linking MANIFEST.in -> whatever-forever-0.0.5\n",
      "hard linking Principal Component Viewer.ipynb -> whatever-forever-0.0.5\n",
      "hard linking README.rst -> whatever-forever-0.0.5\n",
      "hard linking Untitled.ipynb -> whatever-forever-0.0.5\n",
      "hard linking Untitled1.ipynb -> whatever-forever-0.0.5\n",
      "hard linking Untitled2.ipynb -> whatever-forever-0.0.5\n",
      "hard linking aasdf.ipynb -> whatever-forever-0.0.5\n",
      "hard linking meetuper.ipynb -> whatever-forever-0.0.5\n",
      "hard linking setup.cfg -> whatever-forever-0.0.5\n",
      "hard linking setup.py -> whatever-forever-0.0.5\n",
      "hard linking whatever_forever.egg-info/PKG-INFO -> whatever-forever-0.0.5/whatever_forever.egg-info\n",
      "hard linking whatever_forever.egg-info/SOURCES.txt -> whatever-forever-0.0.5/whatever_forever.egg-info\n",
      "hard linking whatever_forever.egg-info/dependency_links.txt -> whatever-forever-0.0.5/whatever_forever.egg-info\n",
      "hard linking whatever_forever.egg-info/requires.txt -> whatever-forever-0.0.5/whatever_forever.egg-info\n",
      "hard linking whatever_forever.egg-info/top_level.txt -> whatever-forever-0.0.5/whatever_forever.egg-info\n",
      "copying setup.cfg -> whatever-forever-0.0.5\n",
      "Writing whatever-forever-0.0.5/setup.cfg\n",
      "Creating tar archive\n",
      "removing 'whatever-forever-0.0.5' (and everything under it)\n",
      "running bdist_wheel\n",
      "running build\n",
      "running build_py\n",
      "file whatever-forever.py (for module whatever-forever) not found\n",
      "file whatever-forever.py (for module whatever-forever) not found\n",
      "installing to build/bdist.macosx-10.5-x86_64/wheel\n",
      "running install\n",
      "running install_lib\n",
      "creating build/bdist.macosx-10.5-x86_64/wheel\n",
      "copying build/lib/whatever4e.py -> build/bdist.macosx-10.5-x86_64/wheel\n",
      "running install_egg_info\n",
      "running egg_info\n",
      "writing requirements to whatever_forever.egg-info/requires.txt\n",
      "writing whatever_forever.egg-info/PKG-INFO\n",
      "writing top-level names to whatever_forever.egg-info/top_level.txt\n",
      "writing dependency_links to whatever_forever.egg-info/dependency_links.txt\n",
      "file whatever-forever.py (for module whatever-forever) not found\n",
      "reading manifest file 'whatever_forever.egg-info/SOURCES.txt'\n",
      "reading manifest template 'MANIFEST.in'\n",
      "warning: no files found matching '*.md'\n",
      "warning: no files found matching '*.ipynb' under directory 'tests/'\n",
      "writing manifest file 'whatever_forever.egg-info/SOURCES.txt'\n",
      "Copying whatever_forever.egg-info to build/bdist.macosx-10.5-x86_64/wheel/whatever_forever-0.0.5-py3.5.egg-info\n",
      "running install_scripts\n",
      "creating build/bdist.macosx-10.5-x86_64/wheel/whatever_forever-0.0.5.dist-info/WHEEL\n",
      "running sdist\n",
      "running egg_info\n",
      "writing top-level names to whatever_forever.egg-info/top_level.txt\n",
      "writing requirements to whatever_forever.egg-info/requires.txt\n",
      "writing whatever_forever.egg-info/PKG-INFO\n",
      "writing dependency_links to whatever_forever.egg-info/dependency_links.txt\n",
      "file whatever-forever.py (for module whatever-forever) not found\n",
      "reading manifest file 'whatever_forever.egg-info/SOURCES.txt'\n",
      "reading manifest template 'MANIFEST.in'\n",
      "warning: no files found matching '*.md'\n",
      "warning: no files found matching '*.ipynb' under directory 'tests/'\n",
      "writing manifest file 'whatever_forever.egg-info/SOURCES.txt'\n",
      "running check\n",
      "creating whatever-forever-0.0.5\n",
      "creating whatever-forever-0.0.5/whatever_forever.egg-info\n",
      "making hard links in whatever-forever-0.0.5...\n",
      "hard linking Automation.ipynb -> whatever-forever-0.0.5\n",
      "hard linking LICENSE -> whatever-forever-0.0.5\n",
      "hard linking MANIFEST.in -> whatever-forever-0.0.5\n",
      "hard linking Principal Component Viewer.ipynb -> whatever-forever-0.0.5\n",
      "hard linking README.rst -> whatever-forever-0.0.5\n",
      "hard linking Untitled.ipynb -> whatever-forever-0.0.5\n",
      "hard linking Untitled1.ipynb -> whatever-forever-0.0.5\n",
      "hard linking Untitled2.ipynb -> whatever-forever-0.0.5\n",
      "hard linking aasdf.ipynb -> whatever-forever-0.0.5\n",
      "hard linking meetuper.ipynb -> whatever-forever-0.0.5\n",
      "hard linking setup.cfg -> whatever-forever-0.0.5\n",
      "hard linking setup.py -> whatever-forever-0.0.5\n",
      "hard linking whatever_forever.egg-info/PKG-INFO -> whatever-forever-0.0.5/whatever_forever.egg-info\n",
      "hard linking whatever_forever.egg-info/SOURCES.txt -> whatever-forever-0.0.5/whatever_forever.egg-info\n",
      "hard linking whatever_forever.egg-info/dependency_links.txt -> whatever-forever-0.0.5/whatever_forever.egg-info\n",
      "hard linking whatever_forever.egg-info/requires.txt -> whatever-forever-0.0.5/whatever_forever.egg-info\n",
      "hard linking whatever_forever.egg-info/top_level.txt -> whatever-forever-0.0.5/whatever_forever.egg-info\n",
      "copying setup.cfg -> whatever-forever-0.0.5\n",
      "Writing whatever-forever-0.0.5/setup.cfg\n",
      "Creating tar archive\n",
      "removing 'whatever-forever-0.0.5' (and everything under it)\n",
      "running upload\n",
      "Submitting dist/whatever-forever-0.0.5.tar.gz to https://testpypi.python.org/pypi\n"
     ]
    }
   ],
   "source": [
    "!python setup.py register -r pypitest\n",
    "!python setup.py sdist\n",
    "!python setup.py bdist_wheel\n",
    "!python setup.py sdist upload -r pypitest\n",
    "!python setup.py bdist_wheel upload -r pypitest"
   ]
  },
  {
   "cell_type": "markdown",
   "metadata": {},
   "source": [
    "# Cut a real release for PyPi"
   ]
  },
  {
   "cell_type": "code",
   "execution_count": 10,
   "metadata": {
    "collapsed": false
   },
   "outputs": [
    {
     "name": "stdout",
     "output_type": "stream",
     "text": [
      "running register\n",
      "running egg_info\n",
      "writing dependency_links to whatever_forever.egg-info/dependency_links.txt\n",
      "writing whatever_forever.egg-info/PKG-INFO\n",
      "writing requirements to whatever_forever.egg-info/requires.txt\n",
      "writing top-level names to whatever_forever.egg-info/top_level.txt\n",
      "file whatever-forever.py (for module whatever-forever) not found\n",
      "reading manifest file 'whatever_forever.egg-info/SOURCES.txt'\n",
      "reading manifest template 'MANIFEST.in'\n",
      "warning: no files found matching '*.md'\n",
      "warning: no files found matching '*.ipynb' under directory 'tests/'\n",
      "writing manifest file 'whatever_forever.egg-info/SOURCES.txt'\n",
      "running check\n",
      "Registering whatever-forever to https://pypi.python.org/pypi\n",
      "Server response (200): OK\n",
      "running sdist\n",
      "running egg_info\n",
      "writing top-level names to whatever_forever.egg-info/top_level.txt\n",
      "writing requirements to whatever_forever.egg-info/requires.txt\n",
      "writing whatever_forever.egg-info/PKG-INFO\n",
      "writing dependency_links to whatever_forever.egg-info/dependency_links.txt\n",
      "file whatever-forever.py (for module whatever-forever) not found\n",
      "reading manifest file 'whatever_forever.egg-info/SOURCES.txt'\n",
      "reading manifest template 'MANIFEST.in'\n",
      "warning: no files found matching '*.md'\n",
      "warning: no files found matching '*.ipynb' under directory 'tests/'\n",
      "writing manifest file 'whatever_forever.egg-info/SOURCES.txt'\n",
      "running check\n",
      "creating whatever-forever-0.0.4\n",
      "creating whatever-forever-0.0.4/whatever_forever.egg-info\n",
      "making hard links in whatever-forever-0.0.4...\n",
      "hard linking Automation.ipynb -> whatever-forever-0.0.4\n",
      "hard linking LICENSE -> whatever-forever-0.0.4\n",
      "hard linking MANIFEST.in -> whatever-forever-0.0.4\n",
      "hard linking Principal Component Viewer.ipynb -> whatever-forever-0.0.4\n",
      "hard linking README.rst -> whatever-forever-0.0.4\n",
      "hard linking Untitled.ipynb -> whatever-forever-0.0.4\n",
      "hard linking Untitled1.ipynb -> whatever-forever-0.0.4\n",
      "hard linking Untitled2.ipynb -> whatever-forever-0.0.4\n",
      "hard linking aasdf.ipynb -> whatever-forever-0.0.4\n",
      "hard linking meetuper.ipynb -> whatever-forever-0.0.4\n",
      "hard linking setup.cfg -> whatever-forever-0.0.4\n",
      "hard linking setup.py -> whatever-forever-0.0.4\n",
      "hard linking whatever_forever.egg-info/PKG-INFO -> whatever-forever-0.0.4/whatever_forever.egg-info\n",
      "hard linking whatever_forever.egg-info/SOURCES.txt -> whatever-forever-0.0.4/whatever_forever.egg-info\n",
      "hard linking whatever_forever.egg-info/dependency_links.txt -> whatever-forever-0.0.4/whatever_forever.egg-info\n",
      "hard linking whatever_forever.egg-info/requires.txt -> whatever-forever-0.0.4/whatever_forever.egg-info\n",
      "hard linking whatever_forever.egg-info/top_level.txt -> whatever-forever-0.0.4/whatever_forever.egg-info\n",
      "copying setup.cfg -> whatever-forever-0.0.4\n",
      "Writing whatever-forever-0.0.4/setup.cfg\n",
      "Creating tar archive\n",
      "removing 'whatever-forever-0.0.4' (and everything under it)\n",
      "running bdist_wheel\n",
      "running build\n",
      "running build_py\n",
      "file whatever-forever.py (for module whatever-forever) not found\n",
      "file whatever-forever.py (for module whatever-forever) not found\n",
      "installing to build/bdist.macosx-10.5-x86_64/wheel\n",
      "running install\n",
      "running install_lib\n",
      "creating build/bdist.macosx-10.5-x86_64/wheel\n",
      "copying build/lib/whatever4e.py -> build/bdist.macosx-10.5-x86_64/wheel\n",
      "running install_egg_info\n",
      "running egg_info\n",
      "writing top-level names to whatever_forever.egg-info/top_level.txt\n",
      "writing whatever_forever.egg-info/PKG-INFO\n",
      "writing requirements to whatever_forever.egg-info/requires.txt\n",
      "writing dependency_links to whatever_forever.egg-info/dependency_links.txt\n",
      "file whatever-forever.py (for module whatever-forever) not found\n",
      "reading manifest file 'whatever_forever.egg-info/SOURCES.txt'\n",
      "reading manifest template 'MANIFEST.in'\n",
      "warning: no files found matching '*.md'\n",
      "warning: no files found matching '*.ipynb' under directory 'tests/'\n",
      "writing manifest file 'whatever_forever.egg-info/SOURCES.txt'\n",
      "Copying whatever_forever.egg-info to build/bdist.macosx-10.5-x86_64/wheel/whatever_forever-0.0.4-py3.5.egg-info\n",
      "running install_scripts\n",
      "creating build/bdist.macosx-10.5-x86_64/wheel/whatever_forever-0.0.4.dist-info/WHEEL\n",
      "running sdist\n",
      "running egg_info\n",
      "writing dependency_links to whatever_forever.egg-info/dependency_links.txt\n",
      "writing whatever_forever.egg-info/PKG-INFO\n",
      "writing requirements to whatever_forever.egg-info/requires.txt\n",
      "writing top-level names to whatever_forever.egg-info/top_level.txt\n",
      "file whatever-forever.py (for module whatever-forever) not found\n",
      "reading manifest file 'whatever_forever.egg-info/SOURCES.txt'\n",
      "reading manifest template 'MANIFEST.in'\n",
      "warning: no files found matching '*.md'\n",
      "warning: no files found matching '*.ipynb' under directory 'tests/'\n",
      "writing manifest file 'whatever_forever.egg-info/SOURCES.txt'\n",
      "running check\n",
      "creating whatever-forever-0.0.4\n",
      "creating whatever-forever-0.0.4/whatever_forever.egg-info\n",
      "making hard links in whatever-forever-0.0.4...\n",
      "hard linking Automation.ipynb -> whatever-forever-0.0.4\n",
      "hard linking LICENSE -> whatever-forever-0.0.4\n",
      "hard linking MANIFEST.in -> whatever-forever-0.0.4\n",
      "hard linking Principal Component Viewer.ipynb -> whatever-forever-0.0.4\n",
      "hard linking README.rst -> whatever-forever-0.0.4\n",
      "hard linking Untitled.ipynb -> whatever-forever-0.0.4\n",
      "hard linking Untitled1.ipynb -> whatever-forever-0.0.4\n",
      "hard linking Untitled2.ipynb -> whatever-forever-0.0.4\n",
      "hard linking aasdf.ipynb -> whatever-forever-0.0.4\n",
      "hard linking meetuper.ipynb -> whatever-forever-0.0.4\n",
      "hard linking setup.cfg -> whatever-forever-0.0.4\n",
      "hard linking setup.py -> whatever-forever-0.0.4\n",
      "hard linking whatever_forever.egg-info/PKG-INFO -> whatever-forever-0.0.4/whatever_forever.egg-info\n",
      "hard linking whatever_forever.egg-info/SOURCES.txt -> whatever-forever-0.0.4/whatever_forever.egg-info\n",
      "hard linking whatever_forever.egg-info/dependency_links.txt -> whatever-forever-0.0.4/whatever_forever.egg-info\n",
      "hard linking whatever_forever.egg-info/requires.txt -> whatever-forever-0.0.4/whatever_forever.egg-info\n",
      "hard linking whatever_forever.egg-info/top_level.txt -> whatever-forever-0.0.4/whatever_forever.egg-info\n",
      "copying setup.cfg -> whatever-forever-0.0.4\n",
      "Writing whatever-forever-0.0.4/setup.cfg\n",
      "Creating tar archive\n",
      "removing 'whatever-forever-0.0.4' (and everything under it)\n",
      "running upload\n",
      "Submitting dist/whatever-forever-0.0.4.tar.gz to https://pypi.python.org/pypi\n",
      "Server response (200): OK\n",
      "running bdist_wheel\n",
      "running build\n",
      "running build_py\n",
      "file whatever-forever.py (for module whatever-forever) not found\n",
      "file whatever-forever.py (for module whatever-forever) not found\n",
      "installing to build/bdist.macosx-10.5-x86_64/wheel\n",
      "running install\n",
      "running install_lib\n",
      "creating build/bdist.macosx-10.5-x86_64/wheel\n",
      "copying build/lib/whatever4e.py -> build/bdist.macosx-10.5-x86_64/wheel\n",
      "running install_egg_info\n",
      "running egg_info\n",
      "writing requirements to whatever_forever.egg-info/requires.txt\n",
      "writing dependency_links to whatever_forever.egg-info/dependency_links.txt\n",
      "writing whatever_forever.egg-info/PKG-INFO\n",
      "writing top-level names to whatever_forever.egg-info/top_level.txt\n",
      "file whatever-forever.py (for module whatever-forever) not found\n",
      "reading manifest file 'whatever_forever.egg-info/SOURCES.txt'\n",
      "reading manifest template 'MANIFEST.in'\n",
      "warning: no files found matching '*.md'\n",
      "warning: no files found matching '*.ipynb' under directory 'tests/'\n",
      "writing manifest file 'whatever_forever.egg-info/SOURCES.txt'\n",
      "Copying whatever_forever.egg-info to build/bdist.macosx-10.5-x86_64/wheel/whatever_forever-0.0.4-py3.5.egg-info\n",
      "running install_scripts\n",
      "creating build/bdist.macosx-10.5-x86_64/wheel/whatever_forever-0.0.4.dist-info/WHEEL\n",
      "running upload\n",
      "Submitting /Users/tfast/w4e/dist/whatever_forever-0.0.4-py2.py3-none-any.whl to https://pypi.python.org/pypi\n",
      "Server response (200): OK\n"
     ]
    }
   ],
   "source": [
    "!python setup.py register -r pypi\n",
    "!python setup.py sdist\n",
    "!python setup.py bdist_wheel\n",
    "!python setup.py sdist upload -r pypi\n",
    "!python setup.py bdist_wheel upload -r pypi"
   ]
  },
  {
   "cell_type": "code",
   "execution_count": 16,
   "metadata": {
    "collapsed": false
   },
   "outputs": [
    {
     "name": "stdout",
     "output_type": "stream",
     "text": [
      "Collecting whatever-forever\r\n",
      "  Using cached whatever_forever-0.0.3-py2.py3-none-any.whl\r\n",
      "Requirement already up-to-date: toolz in /Users/tfast/anaconda/lib/python3.5/site-packages (from whatever-forever)\r\n",
      "Installing collected packages: whatever-forever\r\n",
      "  Found existing installation: whatever-forever 0.0.2\r\n",
      "\u001b[31mException:\r\n",
      "Traceback (most recent call last):\r\n",
      "  File \"/Users/tfast/anaconda/lib/python3.5/site-packages/pip/basecommand.py\", line 215, in main\r\n",
      "    status = self.run(options, args)\r\n",
      "  File \"/Users/tfast/anaconda/lib/python3.5/site-packages/pip/commands/install.py\", line 317, in run\r\n",
      "    prefix=options.prefix_path,\r\n",
      "  File \"/Users/tfast/anaconda/lib/python3.5/site-packages/pip/req/req_set.py\", line 736, in install\r\n",
      "    requirement.uninstall(auto_confirm=True)\r\n",
      "  File \"/Users/tfast/anaconda/lib/python3.5/site-packages/pip/req/req_install.py\", line 687, in uninstall\r\n",
      "    '(at %s)' % (link_pointer, self.name, dist.location)\r\n",
      "AssertionError: Egg-link /Users/tfast/w4e does not match installed location of whatever-forever (at /Users/tfast/anaconda/lib/python3.5/site-packages)\u001b[0m\r\n"
     ]
    }
   ],
   "source": [
    "!pip install whatever-forever --upgrade"
   ]
  },
  {
   "cell_type": "code",
   "execution_count": 24,
   "metadata": {
    "collapsed": false
   },
   "outputs": [
    {
     "name": "stdout",
     "output_type": "stream",
     "text": [
      "\u001b[31mException:\r\n",
      "Traceback (most recent call last):\r\n",
      "  File \"/Users/tfast/anaconda/lib/python3.5/site-packages/pip/basecommand.py\", line 215, in main\r\n",
      "    status = self.run(options, args)\r\n",
      "  File \"/Users/tfast/anaconda/lib/python3.5/site-packages/pip/commands/uninstall.py\", line 76, in run\r\n",
      "    requirement_set.uninstall(auto_confirm=options.yes)\r\n",
      "  File \"/Users/tfast/anaconda/lib/python3.5/site-packages/pip/req/req_set.py\", line 336, in uninstall\r\n",
      "    req.uninstall(auto_confirm=auto_confirm)\r\n",
      "  File \"/Users/tfast/anaconda/lib/python3.5/site-packages/pip/req/req_install.py\", line 687, in uninstall\r\n",
      "    '(at %s)' % (link_pointer, self.name, dist.location)\r\n",
      "AssertionError: Egg-link /Users/tfast/w4e does not match installed location of whatever4e (at /Users/tfast/anaconda/lib/python3.5/site-packages)\u001b[0m\r\n"
     ]
    }
   ],
   "source": [
    "!pip uninstall whatever4e -y"
   ]
  },
  {
   "cell_type": "code",
   "execution_count": null,
   "metadata": {
    "collapsed": true
   },
   "outputs": [],
   "source": []
  }
 ],
 "metadata": {
  "anaconda-cloud": {},
  "kernelspec": {
   "display_name": "Python [Root]",
   "language": "python",
   "name": "Python [Root]"
  },
  "language_info": {
   "codemirror_mode": {
    "name": "ipython",
    "version": 3
   },
   "file_extension": ".py",
   "mimetype": "text/x-python",
   "name": "python",
   "nbconvert_exporter": "python",
   "pygments_lexer": "ipython3",
   "version": "3.5.1"
  },
  "widgets": {
   "state": {},
   "version": "1.1.0"
  }
 },
 "nbformat": 4,
 "nbformat_minor": 0
}
