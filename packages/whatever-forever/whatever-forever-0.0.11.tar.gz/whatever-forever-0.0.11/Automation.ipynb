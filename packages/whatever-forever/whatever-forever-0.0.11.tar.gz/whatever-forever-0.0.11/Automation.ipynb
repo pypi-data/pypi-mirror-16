{
 "cells": [
  {
   "cell_type": "markdown",
   "metadata": {},
   "source": [
    "## Automation\n",
    "Nothing too fancy here."
   ]
  },
  {
   "cell_type": "code",
   "execution_count": 17,
   "metadata": {
    "collapsed": false
   },
   "outputs": [
    {
     "name": "stdout",
     "output_type": "stream",
     "text": [
      "Overwriting setup.py\n"
     ]
    }
   ],
   "source": [
    "%%file setup.py\n",
    "from os.path import join, dirname\n",
    "import setuptools\n",
    "\n",
    "\n",
    "def read(fname):\n",
    "    with open(join(dirname(__file__), fname)) as f:\n",
    "        return f.read()\n",
    "\n",
    "setuptools.setup(\n",
    "    name=\"whatever-forever\",\n",
    "    version=\"0.0.11\",\n",
    "    author=\"Tony Fast\",\n",
    "    author_email=\"tony.fast@gmail.com\",\n",
    "    description=\"prototype whatever in the Jupyter notebook\",\n",
    "    license=\"BSD-3-Clause\",\n",
    "    keywords=\"IPython Magic Jupyter\",\n",
    "    url=\"http://github.com/tonyfast/whatever-forever\",\n",
    "    packages=setuptools.find_packages(),\n",
    "    long_description=read(\"README.rst\"),\n",
    "    classifiers=[\n",
    "        \"Topic :: Utilities\",\n",
    "        \"Framework :: IPython\",\n",
    "        \"Natural Language :: English\",\n",
    "        \"Programming Language :: Python\",\n",
    "        \"Intended Audience :: Developers\",\n",
    "        \"Development Status :: 3 - Alpha\",\n",
    "        \"Operating System :: OS Independent\",\n",
    "        \"Programming Language :: Python :: 3\",\n",
    "        \"License :: OSI Approved :: BSD License\",\n",
    "        \"Topic :: Software Development :: Testing\",\n",
    "    ],\n",
    "    install_requires=[\n",
    "        \"toolz\",\n",
    "    ]\n",
    ")"
   ]
  },
  {
   "cell_type": "code",
   "execution_count": 18,
   "metadata": {
    "collapsed": false
   },
   "outputs": [
    {
     "name": "stdout",
     "output_type": "stream",
     "text": [
      "[NbConvertApp] Converting notebook source/Untitled.ipynb to python\n",
      "[NbConvertApp] Writing 873 bytes to whatever/Untitled.py\n",
      "[NbConvertApp] Converting notebook source/Untitled1.ipynb to python\n",
      "[NbConvertApp] Writing 498 bytes to whatever/Untitled1.py\n",
      "[NbConvertApp] Converting notebook source/__init__.ipynb to python\n",
      "[NbConvertApp] Writing 1671 bytes to whatever/__init__.py\n",
      "[NbConvertApp] Converting notebook source/chain.ipynb to python\n",
      "[NbConvertApp] Writing 10088 bytes to whatever/chain.py\n",
      "[NbConvertApp] Converting notebook source/imports_for_whatever_forever.ipynb to python\n",
      "[NbConvertApp] Writing 1719 bytes to whatever/imports_for_whatever_forever.py\n",
      "[NbConvertApp] Converting notebook source/magic.ipynb to python\n",
      "[NbConvertApp] Writing 2900 bytes to whatever/magic.py\n",
      "[NbConvertApp] Converting notebook source/__init__.ipynb to rst\n",
      "[NbConvertApp] Writing 1778 bytes to source/../README.rst\n"
     ]
    }
   ],
   "source": [
    "!jupyter nbconvert source/*.ipynb --to=python --output-dir=whatever\n",
    "!cp source/class_maker.py whatever/\n",
    "!jupyter nbconvert source/__init__.ipynb --to=rst --output=../README.rst"
   ]
  },
  {
   "cell_type": "code",
   "execution_count": 19,
   "metadata": {
    "collapsed": true
   },
   "outputs": [],
   "source": [
    "from glob import glob\n",
    "for the_script in glob('whatever/*.py'):\n",
    "    with open(the_script) as f:\n",
    "        src = f.read()\n",
    "    with open(the_script, 'w') as f:\n",
    "        f.write(src.replace('from class_maker import', 'from .class_maker import'))"
   ]
  },
  {
   "cell_type": "code",
   "execution_count": 20,
   "metadata": {
    "collapsed": false
   },
   "outputs": [
    {
     "name": "stdout",
     "output_type": "stream",
     "text": [
      "running develop\n",
      "running egg_info\n",
      "writing top-level names to whatever_forever.egg-info/top_level.txt\n",
      "writing whatever_forever.egg-info/PKG-INFO\n",
      "writing requirements to whatever_forever.egg-info/requires.txt\n",
      "writing dependency_links to whatever_forever.egg-info/dependency_links.txt\n",
      "reading manifest file 'whatever_forever.egg-info/SOURCES.txt'\n",
      "reading manifest template 'MANIFEST.in'\n",
      "warning: no files found matching '*.md'\n",
      "warning: no files found matching '*.ipynb' under directory 'tests/'\n",
      "writing manifest file 'whatever_forever.egg-info/SOURCES.txt'\n",
      "running build_ext\n",
      "Creating /Users/tfast/anaconda/lib/python3.5/site-packages/whatever-forever.egg-link (link to .)\n",
      "whatever-forever 0.0.10 is already the active version in easy-install.pth\n",
      "\n",
      "Installed /Users/tfast/whatever-forever\n",
      "Processing dependencies for whatever-forever==0.0.10\n",
      "Searching for toolz==0.8.0\n",
      "Best match: toolz 0.8.0\n",
      "Adding toolz 0.8.0 to easy-install.pth file\n",
      "\n",
      "Using /Users/tfast/anaconda/lib/python3.5/site-packages\n",
      "Finished processing dependencies for whatever-forever==0.0.10\n"
     ]
    }
   ],
   "source": [
    "!python setup.py develop"
   ]
  },
  {
   "cell_type": "markdown",
   "metadata": {},
   "source": [
    "### Run tests"
   ]
  },
  {
   "cell_type": "code",
   "execution_count": 28,
   "metadata": {
    "collapsed": false
   },
   "outputs": [],
   "source": [
    "# !python setup.py test"
   ]
  },
  {
   "cell_type": "markdown",
   "metadata": {},
   "source": [
    "### Check code style"
   ]
  },
  {
   "cell_type": "code",
   "execution_count": 29,
   "metadata": {
    "collapsed": false
   },
   "outputs": [],
   "source": [
    "# !flake8"
   ]
  },
  {
   "cell_type": "markdown",
   "metadata": {},
   "source": [
    "## Test Release for PyPi"
   ]
  },
  {
   "cell_type": "code",
   "execution_count": null,
   "metadata": {
    "collapsed": false,
    "scrolled": false
   },
   "outputs": [],
   "source": [
    "!python setup.py register -r pypitest\n",
    "!python setup.py sdist\n",
    "!python setup.py bdist_wheel\n",
    "!python setup.py sdist upload -r pypitest\n",
    "!python setup.py bdist_wheel upload -r pypitest"
   ]
  },
  {
   "cell_type": "markdown",
   "metadata": {},
   "source": [
    "# Cut a real release for PyPi"
   ]
  },
  {
   "cell_type": "code",
   "execution_count": 30,
   "metadata": {
    "collapsed": false
   },
   "outputs": [
    {
     "name": "stdout",
     "output_type": "stream",
     "text": [
      "running register\n",
      "running egg_info\n",
      "writing dependency_links to whatever_forever.egg-info/dependency_links.txt\n",
      "writing top-level names to whatever_forever.egg-info/top_level.txt\n",
      "writing requirements to whatever_forever.egg-info/requires.txt\n",
      "writing whatever_forever.egg-info/PKG-INFO\n",
      "reading manifest file 'whatever_forever.egg-info/SOURCES.txt'\n",
      "reading manifest template 'MANIFEST.in'\n",
      "warning: no files found matching '*.md'\n",
      "warning: no files found matching '*.ipynb' under directory 'tests/'\n",
      "writing manifest file 'whatever_forever.egg-info/SOURCES.txt'\n",
      "running check\n",
      "Registering whatever-forever to https://pypi.python.org/pypi\n",
      "Server response (200): OK\n",
      "running sdist\n",
      "running egg_info\n",
      "writing requirements to whatever_forever.egg-info/requires.txt\n",
      "writing top-level names to whatever_forever.egg-info/top_level.txt\n",
      "writing whatever_forever.egg-info/PKG-INFO\n",
      "writing dependency_links to whatever_forever.egg-info/dependency_links.txt\n",
      "reading manifest file 'whatever_forever.egg-info/SOURCES.txt'\n",
      "reading manifest template 'MANIFEST.in'\n",
      "warning: no files found matching '*.md'\n",
      "warning: no files found matching '*.ipynb' under directory 'tests/'\n",
      "writing manifest file 'whatever_forever.egg-info/SOURCES.txt'\n",
      "running check\n",
      "creating whatever-forever-0.0.10\n",
      "creating whatever-forever-0.0.10/whatever4e\n",
      "creating whatever-forever-0.0.10/whatever_forever.egg-info\n",
      "making hard links in whatever-forever-0.0.10...\n",
      "hard linking Automation.ipynb -> whatever-forever-0.0.10\n",
      "hard linking LICENSE -> whatever-forever-0.0.10\n",
      "hard linking MANIFEST.in -> whatever-forever-0.0.10\n",
      "hard linking README.rst -> whatever-forever-0.0.10\n",
      "hard linking Untitled1.ipynb -> whatever-forever-0.0.10\n",
      "hard linking setup.cfg -> whatever-forever-0.0.10\n",
      "hard linking setup.py -> whatever-forever-0.0.10\n",
      "hard linking whatever4e/__init__.py -> whatever-forever-0.0.10/whatever4e\n",
      "hard linking whatever4e/chain.py -> whatever-forever-0.0.10/whatever4e\n",
      "hard linking whatever4e/class_maker.py -> whatever-forever-0.0.10/whatever4e\n",
      "hard linking whatever4e/magic.py -> whatever-forever-0.0.10/whatever4e\n",
      "hard linking whatever_forever.egg-info/PKG-INFO -> whatever-forever-0.0.10/whatever_forever.egg-info\n",
      "hard linking whatever_forever.egg-info/SOURCES.txt -> whatever-forever-0.0.10/whatever_forever.egg-info\n",
      "hard linking whatever_forever.egg-info/dependency_links.txt -> whatever-forever-0.0.10/whatever_forever.egg-info\n",
      "hard linking whatever_forever.egg-info/requires.txt -> whatever-forever-0.0.10/whatever_forever.egg-info\n",
      "hard linking whatever_forever.egg-info/top_level.txt -> whatever-forever-0.0.10/whatever_forever.egg-info\n",
      "copying setup.cfg -> whatever-forever-0.0.10\n",
      "Writing whatever-forever-0.0.10/setup.cfg\n",
      "Creating tar archive\n",
      "removing 'whatever-forever-0.0.10' (and everything under it)\n",
      "running bdist_wheel\n",
      "running build\n",
      "running build_py\n",
      "installing to build/bdist.macosx-10.6-x86_64/wheel\n",
      "running install\n",
      "running install_lib\n",
      "creating build/bdist.macosx-10.6-x86_64/wheel\n",
      "creating build/bdist.macosx-10.6-x86_64/wheel/whatever4e\n",
      "copying build/lib/whatever4e/__init__.py -> build/bdist.macosx-10.6-x86_64/wheel/whatever4e\n",
      "copying build/lib/whatever4e/chain.py -> build/bdist.macosx-10.6-x86_64/wheel/whatever4e\n",
      "copying build/lib/whatever4e/class_maker.py -> build/bdist.macosx-10.6-x86_64/wheel/whatever4e\n",
      "copying build/lib/whatever4e/magic.py -> build/bdist.macosx-10.6-x86_64/wheel/whatever4e\n",
      "running install_egg_info\n",
      "running egg_info\n",
      "writing dependency_links to whatever_forever.egg-info/dependency_links.txt\n",
      "writing requirements to whatever_forever.egg-info/requires.txt\n",
      "writing whatever_forever.egg-info/PKG-INFO\n",
      "writing top-level names to whatever_forever.egg-info/top_level.txt\n",
      "reading manifest file 'whatever_forever.egg-info/SOURCES.txt'\n",
      "reading manifest template 'MANIFEST.in'\n",
      "warning: no files found matching '*.md'\n",
      "warning: no files found matching '*.ipynb' under directory 'tests/'\n",
      "writing manifest file 'whatever_forever.egg-info/SOURCES.txt'\n",
      "Copying whatever_forever.egg-info to build/bdist.macosx-10.6-x86_64/wheel/whatever_forever-0.0.10-py3.5.egg-info\n",
      "running install_scripts\n",
      "creating build/bdist.macosx-10.6-x86_64/wheel/whatever_forever-0.0.10.dist-info/WHEEL\n",
      "running sdist\n",
      "running egg_info\n",
      "writing whatever_forever.egg-info/PKG-INFO\n",
      "writing top-level names to whatever_forever.egg-info/top_level.txt\n",
      "writing dependency_links to whatever_forever.egg-info/dependency_links.txt\n",
      "writing requirements to whatever_forever.egg-info/requires.txt\n",
      "reading manifest file 'whatever_forever.egg-info/SOURCES.txt'\n",
      "reading manifest template 'MANIFEST.in'\n",
      "warning: no files found matching '*.md'\n",
      "warning: no files found matching '*.ipynb' under directory 'tests/'\n",
      "writing manifest file 'whatever_forever.egg-info/SOURCES.txt'\n",
      "running check\n",
      "creating whatever-forever-0.0.10\n",
      "creating whatever-forever-0.0.10/whatever4e\n",
      "creating whatever-forever-0.0.10/whatever_forever.egg-info\n",
      "making hard links in whatever-forever-0.0.10...\n",
      "hard linking Automation.ipynb -> whatever-forever-0.0.10\n",
      "hard linking LICENSE -> whatever-forever-0.0.10\n",
      "hard linking MANIFEST.in -> whatever-forever-0.0.10\n",
      "hard linking README.rst -> whatever-forever-0.0.10\n",
      "hard linking Untitled1.ipynb -> whatever-forever-0.0.10\n",
      "hard linking setup.cfg -> whatever-forever-0.0.10\n",
      "hard linking setup.py -> whatever-forever-0.0.10\n",
      "hard linking whatever4e/__init__.py -> whatever-forever-0.0.10/whatever4e\n",
      "hard linking whatever4e/chain.py -> whatever-forever-0.0.10/whatever4e\n",
      "hard linking whatever4e/class_maker.py -> whatever-forever-0.0.10/whatever4e\n",
      "hard linking whatever4e/magic.py -> whatever-forever-0.0.10/whatever4e\n",
      "hard linking whatever_forever.egg-info/PKG-INFO -> whatever-forever-0.0.10/whatever_forever.egg-info\n",
      "hard linking whatever_forever.egg-info/SOURCES.txt -> whatever-forever-0.0.10/whatever_forever.egg-info\n",
      "hard linking whatever_forever.egg-info/dependency_links.txt -> whatever-forever-0.0.10/whatever_forever.egg-info\n",
      "hard linking whatever_forever.egg-info/requires.txt -> whatever-forever-0.0.10/whatever_forever.egg-info\n",
      "hard linking whatever_forever.egg-info/top_level.txt -> whatever-forever-0.0.10/whatever_forever.egg-info\n",
      "copying setup.cfg -> whatever-forever-0.0.10\n",
      "Writing whatever-forever-0.0.10/setup.cfg\n",
      "Creating tar archive\n",
      "removing 'whatever-forever-0.0.10' (and everything under it)\n",
      "running upload\n",
      "Submitting dist/whatever-forever-0.0.10.tar.gz to https://pypi.python.org/pypi\n",
      "Server response (200): OK\n",
      "running bdist_wheel\n",
      "running build\n",
      "running build_py\n",
      "installing to build/bdist.macosx-10.6-x86_64/wheel\n",
      "running install\n",
      "running install_lib\n",
      "creating build/bdist.macosx-10.6-x86_64/wheel\n",
      "creating build/bdist.macosx-10.6-x86_64/wheel/whatever4e\n",
      "copying build/lib/whatever4e/__init__.py -> build/bdist.macosx-10.6-x86_64/wheel/whatever4e\n",
      "copying build/lib/whatever4e/chain.py -> build/bdist.macosx-10.6-x86_64/wheel/whatever4e\n",
      "copying build/lib/whatever4e/class_maker.py -> build/bdist.macosx-10.6-x86_64/wheel/whatever4e\n",
      "copying build/lib/whatever4e/magic.py -> build/bdist.macosx-10.6-x86_64/wheel/whatever4e\n",
      "running install_egg_info\n",
      "running egg_info\n",
      "writing top-level names to whatever_forever.egg-info/top_level.txt\n",
      "writing requirements to whatever_forever.egg-info/requires.txt\n",
      "writing whatever_forever.egg-info/PKG-INFO\n",
      "writing dependency_links to whatever_forever.egg-info/dependency_links.txt\n",
      "reading manifest file 'whatever_forever.egg-info/SOURCES.txt'\n",
      "reading manifest template 'MANIFEST.in'\n",
      "warning: no files found matching '*.md'\n",
      "warning: no files found matching '*.ipynb' under directory 'tests/'\n",
      "writing manifest file 'whatever_forever.egg-info/SOURCES.txt'\n",
      "Copying whatever_forever.egg-info to build/bdist.macosx-10.6-x86_64/wheel/whatever_forever-0.0.10-py3.5.egg-info\n",
      "running install_scripts\n",
      "creating build/bdist.macosx-10.6-x86_64/wheel/whatever_forever-0.0.10.dist-info/WHEEL\n",
      "running upload\n",
      "Submitting /Users/tfast/whatever-forever/dist/whatever_forever-0.0.10-py2.py3-none-any.whl to https://pypi.python.org/pypi\n",
      "Server response (200): OK\n"
     ]
    }
   ],
   "source": [
    "!python setup.py register -r pypi\n",
    "!python setup.py sdist\n",
    "!python setup.py bdist_wheel\n",
    "!python setup.py sdist upload -r pypi\n",
    "!python setup.py bdist_wheel upload -r pypi"
   ]
  },
  {
   "cell_type": "code",
   "execution_count": 32,
   "metadata": {
    "collapsed": false
   },
   "outputs": [
    {
     "name": "stdout",
     "output_type": "stream",
     "text": [
      "Requirement already up-to-date: whatever-forever in /Users/tfast/anaconda/lib/python3.5/site-packages/whatever_forever-0.0.10-py3.5.egg\r\n",
      "Requirement already up-to-date: toolz in /Users/tfast/anaconda/lib/python3.5/site-packages (from whatever-forever)\r\n"
     ]
    }
   ],
   "source": [
    "!pip install whatever-forever --upgrade --no-cache-dir"
   ]
  },
  {
   "cell_type": "code",
   "execution_count": null,
   "metadata": {
    "collapsed": true
   },
   "outputs": [],
   "source": []
  }
 ],
 "metadata": {
  "anaconda-cloud": {},
  "kernelspec": {
   "display_name": "Python [Root]",
   "language": "python",
   "name": "Python [Root]"
  },
  "language_info": {
   "codemirror_mode": {
    "name": "ipython",
    "version": 3
   },
   "file_extension": ".py",
   "mimetype": "text/x-python",
   "name": "python",
   "nbconvert_exporter": "python",
   "pygments_lexer": "ipython3",
   "version": "3.5.2"
  }
 },
 "nbformat": 4,
 "nbformat_minor": 0
}
