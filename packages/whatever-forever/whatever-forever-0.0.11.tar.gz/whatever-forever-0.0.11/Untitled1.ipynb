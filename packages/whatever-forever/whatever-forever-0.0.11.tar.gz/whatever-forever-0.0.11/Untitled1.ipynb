{
 "cells": [
  {
   "cell_type": "code",
   "execution_count": 1,
   "metadata": {
    "collapsed": true
   },
   "outputs": [],
   "source": [
    "from toolz.curried import *\n",
    "from whatever4e import Chain, Whatever"
   ]
  },
  {
   "cell_type": "code",
   "execution_count": 17,
   "metadata": {
    "collapsed": false
   },
   "outputs": [
    {
     "data": {
      "application/javascript": [
       "require([\n",
       "                        \"notebook/js/codecell\",\n",
       "                        \"codemirror/mode/markdown/markdown\"\n",
       "                    ],\n",
       "                    function(cc){\n",
       "                        cc.CodeCell.options_default.highlight_modes.magic_jinja = {\n",
       "                            reg: [\"^%%jinja\"]\n",
       "                        };\n",
       "                    }\n",
       "                );\n",
       "                "
      ],
      "text/plain": [
       "<IPython.core.display.Javascript object>"
      ]
     },
     "metadata": {},
     "output_type": "display_data"
    },
    {
     "data": {
      "text/plain": [
       "<whatever4e.magic.Whatever at 0x11587f208>"
      ]
     },
     "execution_count": 17,
     "metadata": {},
     "output_type": "execute_result"
    }
   ],
   "source": [
    "from jinja2 import Template\n",
    "from IPython import get_ipython\n",
    "Whatever.cell('jinja', lambda x: Template(x).render(**get_ipython().user_ns), lang='markdown', display='Markdown')"
   ]
  },
  {
   "cell_type": "code",
   "execution_count": 18,
   "metadata": {
    "collapsed": true
   },
   "outputs": [],
   "source": [
    "source_file = \"source/chain.ipynb\""
   ]
  },
  {
   "cell_type": "code",
   "execution_count": 20,
   "metadata": {
    "collapsed": false
   },
   "outputs": [
    {
     "data": {
      "text/markdown": [
       "## A discuss about Chain using it's source code.\n",
       "\n",
       "The chain source code is an Jupyter notebook in the main respository @ `source/chain.ipynb`."
      ],
      "text/plain": [
       "<IPython.core.display.Markdown object>"
      ]
     },
     "metadata": {},
     "output_type": "display_data"
    }
   ],
   "source": [
    "%%jinja\n",
    "## A discuss about Chain using it's source code.\n",
    "\n",
    "The chain source code is an Jupyter notebook in the main respository @ `{{\"source/chain.ipynb\"}}`."
   ]
  },
  {
   "cell_type": "code",
   "execution_count": 21,
   "metadata": {
    "collapsed": true
   },
   "outputs": [],
   "source": [
    "def load_json(fn):\n",
    "    import json\n",
    "    with open(fn, 'r') as f:\n",
    "        return json.load(f)"
   ]
  },
  {
   "cell_type": "code",
   "execution_count": 22,
   "metadata": {
    "collapsed": true
   },
   "outputs": [],
   "source": [
    "import pandas as pd"
   ]
  },
  {
   "cell_type": "code",
   "execution_count": 24,
   "metadata": {
    "collapsed": false
   },
   "outputs": [
    {
     "data": {
      "text/html": [
       "<div>\n",
       "<table border=\"1\" class=\"dataframe\">\n",
       "  <thead>\n",
       "    <tr style=\"text-align: right;\">\n",
       "      <th></th>\n",
       "      <th>cell_type</th>\n",
       "      <th>execution_count</th>\n",
       "      <th>metadata</th>\n",
       "      <th>outputs</th>\n",
       "      <th>source</th>\n",
       "    </tr>\n",
       "  </thead>\n",
       "  <tbody>\n",
       "    <tr>\n",
       "      <th>0</th>\n",
       "      <td>markdown</td>\n",
       "      <td>NaN</td>\n",
       "      <td>{}</td>\n",
       "      <td>NaN</td>\n",
       "      <td>[It should be easier to construct complicated ...</td>\n",
       "    </tr>\n",
       "    <tr>\n",
       "      <th>1</th>\n",
       "      <td>markdown</td>\n",
       "      <td>NaN</td>\n",
       "      <td>{}</td>\n",
       "      <td>NaN</td>\n",
       "      <td>[The only required import is `toolz` from pypi]</td>\n",
       "    </tr>\n",
       "    <tr>\n",
       "      <th>2</th>\n",
       "      <td>code</td>\n",
       "      <td>1.0</td>\n",
       "      <td>{'collapsed': True}</td>\n",
       "      <td>[]</td>\n",
       "      <td>[import builtins\\n, import toolz.curried\\n, fr...</td>\n",
       "    </tr>\n",
       "    <tr>\n",
       "      <th>3</th>\n",
       "      <td>code</td>\n",
       "      <td>62.0</td>\n",
       "      <td>{'collapsed': True}</td>\n",
       "      <td>[]</td>\n",
       "      <td>[\"\"\"Compose a function by chaining.\\n, \\n, Cha...</td>\n",
       "    </tr>\n",
       "    <tr>\n",
       "      <th>4</th>\n",
       "      <td>code</td>\n",
       "      <td>63.0</td>\n",
       "      <td>{'collapsed': True}</td>\n",
       "      <td>[]</td>\n",
       "      <td>[new_method = lambda x: setattr(Chain, x.__nam...</td>\n",
       "    </tr>\n",
       "  </tbody>\n",
       "</table>\n",
       "</div>"
      ],
      "text/plain": [
       "  cell_type  execution_count             metadata outputs  \\\n",
       "0  markdown              NaN                   {}     NaN   \n",
       "1  markdown              NaN                   {}     NaN   \n",
       "2      code              1.0  {'collapsed': True}      []   \n",
       "3      code             62.0  {'collapsed': True}      []   \n",
       "4      code             63.0  {'collapsed': True}      []   \n",
       "\n",
       "                                              source  \n",
       "0  [It should be easier to construct complicated ...  \n",
       "1    [The only required import is `toolz` from pypi]  \n",
       "2  [import builtins\\n, import toolz.curried\\n, fr...  \n",
       "3  [\"\"\"Compose a function by chaining.\\n, \\n, Cha...  \n",
       "4  [new_method = lambda x: setattr(Chain, x.__nam...  "
      ]
     },
     "execution_count": 24,
     "metadata": {},
     "output_type": "execute_result"
    }
   ],
   "source": [
    "data = Chain(source_file) | load_json \\\n",
    "    | get('cells') > pd.DataFrame\n",
    "data.head()"
   ]
  }
 ],
 "metadata": {
  "anaconda-cloud": {},
  "kernelspec": {
   "display_name": "Python [Root]",
   "language": "python",
   "name": "Python [Root]"
  },
  "language_info": {
   "codemirror_mode": {
    "name": "ipython",
    "version": 3
   },
   "file_extension": ".py",
   "mimetype": "text/x-python",
   "name": "python",
   "nbconvert_exporter": "python",
   "pygments_lexer": "ipython3",
   "version": "3.5.1"
  },
  "widgets": {
   "state": {},
   "version": "1.1.0"
  }
 },
 "nbformat": 4,
 "nbformat_minor": 0
}
