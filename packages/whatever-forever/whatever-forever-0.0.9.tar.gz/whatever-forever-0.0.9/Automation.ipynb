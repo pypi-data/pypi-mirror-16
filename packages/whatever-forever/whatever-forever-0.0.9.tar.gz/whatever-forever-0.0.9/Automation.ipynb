{
 "cells": [
  {
   "cell_type": "markdown",
   "metadata": {},
   "source": [
    "## Automation\n",
    "Nothing too fancy here."
   ]
  },
  {
   "cell_type": "code",
   "execution_count": 15,
   "metadata": {
    "collapsed": false
   },
   "outputs": [
    {
     "name": "stdout",
     "output_type": "stream",
     "text": [
      "Overwriting setup.py\n"
     ]
    }
   ],
   "source": [
    "%%file setup.py\n",
    "from os.path import join, dirname\n",
    "import setuptools\n",
    "\n",
    "\n",
    "def read(fname):\n",
    "    with open(join(dirname(__file__), fname)) as f:\n",
    "        return f.read()\n",
    "\n",
    "setuptools.setup(\n",
    "    name=\"whatever-forever\",\n",
    "    version=\"0.0.9\",\n",
    "    author=\"Tony Fast\",\n",
    "    author_email=\"tony.fast@gmail.com\",\n",
    "    description=\"prototype whatever in the Jupyter notebook\",\n",
    "    license=\"BSD-3-Clause\",\n",
    "    keywords=\"IPython Magic Jupyter\",\n",
    "    url=\"http://github.com/tonyfast/whatever-forever\",\n",
    "    packages=setuptools.find_packages(),\n",
    "    long_description=read(\"README.rst\"),\n",
    "    classifiers=[\n",
    "        \"Topic :: Utilities\",\n",
    "        \"Framework :: IPython\",\n",
    "        \"Natural Language :: English\",\n",
    "        \"Programming Language :: Python\",\n",
    "        \"Intended Audience :: Developers\",\n",
    "        \"Development Status :: 3 - Alpha\",\n",
    "        \"Operating System :: OS Independent\",\n",
    "        \"Programming Language :: Python :: 3\",\n",
    "        \"License :: OSI Approved :: BSD License\",\n",
    "        \"Topic :: Software Development :: Testing\",\n",
    "    ],\n",
    "    install_requires=[\n",
    "        \"toolz\",\n",
    "    ]\n",
    ")"
   ]
  },
  {
   "cell_type": "code",
   "execution_count": null,
   "metadata": {
    "collapsed": false
   },
   "outputs": [],
   "source": [
    "!jupyter nbconvert source/*.ipynb --to=python --output-dir=whatever4e\n",
    "!jupyter nbconvert source/__init__.ipynb --to=rst --output=../README.rst"
   ]
  },
  {
   "cell_type": "code",
   "execution_count": 9,
   "metadata": {
    "collapsed": true
   },
   "outputs": [],
   "source": [
    "from glob import glob\n",
    "for the_script in glob('whatever4e/*.py'):\n",
    "    with open(the_script) as f:\n",
    "        src = f.read()\n",
    "    with open(the_script, 'w') as f:\n",
    "        f.write(src.replace(\n",
    "                'from class_maker import',\n",
    "                'from .class_maker import'))"
   ]
  },
  {
   "cell_type": "markdown",
   "metadata": {},
   "source": [
    "### Run tests"
   ]
  },
  {
   "cell_type": "code",
   "execution_count": 10,
   "metadata": {
    "collapsed": false
   },
   "outputs": [],
   "source": [
    "# !python setup.py test"
   ]
  },
  {
   "cell_type": "markdown",
   "metadata": {},
   "source": [
    "### Check code style"
   ]
  },
  {
   "cell_type": "code",
   "execution_count": 6,
   "metadata": {
    "collapsed": false
   },
   "outputs": [],
   "source": [
    "# !flake8"
   ]
  },
  {
   "cell_type": "markdown",
   "metadata": {},
   "source": [
    "## Test Release for PyPi"
   ]
  },
  {
   "cell_type": "code",
   "execution_count": null,
   "metadata": {
    "collapsed": false,
    "scrolled": false
   },
   "outputs": [],
   "source": [
    "!python setup.py register -r pypitest\n",
    "!python setup.py sdist\n",
    "!python setup.py bdist_wheel\n",
    "!python setup.py sdist upload -r pypitest\n",
    "!python setup.py bdist_wheel upload -r pypitest"
   ]
  },
  {
   "cell_type": "markdown",
   "metadata": {},
   "source": [
    "# Cut a real release for PyPi"
   ]
  },
  {
   "cell_type": "code",
   "execution_count": 8,
   "metadata": {
    "collapsed": false
   },
   "outputs": [
    {
     "name": "stdout",
     "output_type": "stream",
     "text": [
      "running register\n",
      "running egg_info\n",
      "creating whatever_forever.egg-info\n",
      "writing dependency_links to whatever_forever.egg-info/dependency_links.txt\n",
      "writing requirements to whatever_forever.egg-info/requires.txt\n",
      "writing whatever_forever.egg-info/PKG-INFO\n",
      "writing top-level names to whatever_forever.egg-info/top_level.txt\n",
      "writing manifest file 'whatever_forever.egg-info/SOURCES.txt'\n",
      "reading manifest file 'whatever_forever.egg-info/SOURCES.txt'\n",
      "reading manifest template 'MANIFEST.in'\n",
      "warning: no files found matching '*.md'\n",
      "warning: no files found matching '*.ipynb' under directory 'tests/'\n",
      "writing manifest file 'whatever_forever.egg-info/SOURCES.txt'\n",
      "running check\n",
      "Registering whatever-forever to https://pypi.python.org/pypi\n",
      "Server response (200): OK\n",
      "running sdist\n",
      "running egg_info\n",
      "writing dependency_links to whatever_forever.egg-info/dependency_links.txt\n",
      "writing whatever_forever.egg-info/PKG-INFO\n",
      "writing top-level names to whatever_forever.egg-info/top_level.txt\n",
      "writing requirements to whatever_forever.egg-info/requires.txt\n",
      "reading manifest file 'whatever_forever.egg-info/SOURCES.txt'\n",
      "reading manifest template 'MANIFEST.in'\n",
      "warning: no files found matching '*.md'\n",
      "warning: no files found matching '*.ipynb' under directory 'tests/'\n",
      "writing manifest file 'whatever_forever.egg-info/SOURCES.txt'\n",
      "running check\n",
      "creating whatever-forever-0.0.8\n",
      "creating whatever-forever-0.0.8/whatever4e\n",
      "creating whatever-forever-0.0.8/whatever_forever.egg-info\n",
      "making hard links in whatever-forever-0.0.8...\n",
      "hard linking Automation.ipynb -> whatever-forever-0.0.8\n",
      "hard linking LICENSE -> whatever-forever-0.0.8\n",
      "hard linking MANIFEST.in -> whatever-forever-0.0.8\n",
      "hard linking README.rst -> whatever-forever-0.0.8\n",
      "hard linking Untitled1.ipynb -> whatever-forever-0.0.8\n",
      "hard linking setup.cfg -> whatever-forever-0.0.8\n",
      "hard linking setup.py -> whatever-forever-0.0.8\n",
      "hard linking whatever4e/__init__.py -> whatever-forever-0.0.8/whatever4e\n",
      "hard linking whatever4e/chain.py -> whatever-forever-0.0.8/whatever4e\n",
      "hard linking whatever4e/class_maker.py -> whatever-forever-0.0.8/whatever4e\n",
      "hard linking whatever4e/magic.py -> whatever-forever-0.0.8/whatever4e\n",
      "hard linking whatever_forever.egg-info/PKG-INFO -> whatever-forever-0.0.8/whatever_forever.egg-info\n",
      "hard linking whatever_forever.egg-info/SOURCES.txt -> whatever-forever-0.0.8/whatever_forever.egg-info\n",
      "hard linking whatever_forever.egg-info/dependency_links.txt -> whatever-forever-0.0.8/whatever_forever.egg-info\n",
      "hard linking whatever_forever.egg-info/requires.txt -> whatever-forever-0.0.8/whatever_forever.egg-info\n",
      "hard linking whatever_forever.egg-info/top_level.txt -> whatever-forever-0.0.8/whatever_forever.egg-info\n",
      "copying setup.cfg -> whatever-forever-0.0.8\n",
      "Writing whatever-forever-0.0.8/setup.cfg\n",
      "creating dist\n",
      "Creating tar archive\n",
      "removing 'whatever-forever-0.0.8' (and everything under it)\n",
      "running bdist_wheel\n",
      "running build\n",
      "running build_py\n",
      "creating build\n",
      "creating build/lib\n",
      "creating build/lib/whatever4e\n",
      "copying whatever4e/__init__.py -> build/lib/whatever4e\n",
      "copying whatever4e/chain.py -> build/lib/whatever4e\n",
      "copying whatever4e/class_maker.py -> build/lib/whatever4e\n",
      "copying whatever4e/magic.py -> build/lib/whatever4e\n",
      "installing to build/bdist.macosx-10.6-x86_64/wheel\n",
      "running install\n",
      "running install_lib\n",
      "creating build/bdist.macosx-10.6-x86_64\n",
      "creating build/bdist.macosx-10.6-x86_64/wheel\n",
      "creating build/bdist.macosx-10.6-x86_64/wheel/whatever4e\n",
      "copying build/lib/whatever4e/__init__.py -> build/bdist.macosx-10.6-x86_64/wheel/whatever4e\n",
      "copying build/lib/whatever4e/chain.py -> build/bdist.macosx-10.6-x86_64/wheel/whatever4e\n",
      "copying build/lib/whatever4e/class_maker.py -> build/bdist.macosx-10.6-x86_64/wheel/whatever4e\n",
      "copying build/lib/whatever4e/magic.py -> build/bdist.macosx-10.6-x86_64/wheel/whatever4e\n",
      "running install_egg_info\n",
      "running egg_info\n",
      "writing whatever_forever.egg-info/PKG-INFO\n",
      "writing dependency_links to whatever_forever.egg-info/dependency_links.txt\n",
      "writing top-level names to whatever_forever.egg-info/top_level.txt\n",
      "writing requirements to whatever_forever.egg-info/requires.txt\n",
      "reading manifest file 'whatever_forever.egg-info/SOURCES.txt'\n",
      "reading manifest template 'MANIFEST.in'\n",
      "warning: no files found matching '*.md'\n",
      "warning: no files found matching '*.ipynb' under directory 'tests/'\n",
      "writing manifest file 'whatever_forever.egg-info/SOURCES.txt'\n",
      "Copying whatever_forever.egg-info to build/bdist.macosx-10.6-x86_64/wheel/whatever_forever-0.0.8-py3.5.egg-info\n",
      "running install_scripts\n",
      "creating build/bdist.macosx-10.6-x86_64/wheel/whatever_forever-0.0.8.dist-info/WHEEL\n",
      "running sdist\n",
      "running egg_info\n",
      "writing whatever_forever.egg-info/PKG-INFO\n",
      "writing requirements to whatever_forever.egg-info/requires.txt\n",
      "writing dependency_links to whatever_forever.egg-info/dependency_links.txt\n",
      "writing top-level names to whatever_forever.egg-info/top_level.txt\n",
      "reading manifest file 'whatever_forever.egg-info/SOURCES.txt'\n",
      "reading manifest template 'MANIFEST.in'\n",
      "warning: no files found matching '*.md'\n",
      "warning: no files found matching '*.ipynb' under directory 'tests/'\n",
      "writing manifest file 'whatever_forever.egg-info/SOURCES.txt'\n",
      "running check\n",
      "creating whatever-forever-0.0.8\n",
      "creating whatever-forever-0.0.8/whatever4e\n",
      "creating whatever-forever-0.0.8/whatever_forever.egg-info\n",
      "making hard links in whatever-forever-0.0.8...\n",
      "hard linking Automation.ipynb -> whatever-forever-0.0.8\n",
      "hard linking LICENSE -> whatever-forever-0.0.8\n",
      "hard linking MANIFEST.in -> whatever-forever-0.0.8\n",
      "hard linking README.rst -> whatever-forever-0.0.8\n",
      "hard linking Untitled1.ipynb -> whatever-forever-0.0.8\n",
      "hard linking setup.cfg -> whatever-forever-0.0.8\n",
      "hard linking setup.py -> whatever-forever-0.0.8\n",
      "hard linking whatever4e/__init__.py -> whatever-forever-0.0.8/whatever4e\n",
      "hard linking whatever4e/chain.py -> whatever-forever-0.0.8/whatever4e\n",
      "hard linking whatever4e/class_maker.py -> whatever-forever-0.0.8/whatever4e\n",
      "hard linking whatever4e/magic.py -> whatever-forever-0.0.8/whatever4e\n",
      "hard linking whatever_forever.egg-info/PKG-INFO -> whatever-forever-0.0.8/whatever_forever.egg-info\n",
      "hard linking whatever_forever.egg-info/SOURCES.txt -> whatever-forever-0.0.8/whatever_forever.egg-info\n",
      "hard linking whatever_forever.egg-info/dependency_links.txt -> whatever-forever-0.0.8/whatever_forever.egg-info\n",
      "hard linking whatever_forever.egg-info/requires.txt -> whatever-forever-0.0.8/whatever_forever.egg-info\n",
      "hard linking whatever_forever.egg-info/top_level.txt -> whatever-forever-0.0.8/whatever_forever.egg-info\n",
      "copying setup.cfg -> whatever-forever-0.0.8\n",
      "Writing whatever-forever-0.0.8/setup.cfg\n",
      "Creating tar archive\n",
      "removing 'whatever-forever-0.0.8' (and everything under it)\n",
      "running upload\n",
      "Submitting dist/whatever-forever-0.0.8.tar.gz to https://pypi.python.org/pypi\n",
      "Server response (200): OK\n",
      "running bdist_wheel\n",
      "running build\n",
      "running build_py\n",
      "installing to build/bdist.macosx-10.6-x86_64/wheel\n",
      "running install\n",
      "running install_lib\n",
      "creating build/bdist.macosx-10.6-x86_64/wheel\n",
      "creating build/bdist.macosx-10.6-x86_64/wheel/whatever4e\n",
      "copying build/lib/whatever4e/__init__.py -> build/bdist.macosx-10.6-x86_64/wheel/whatever4e\n",
      "copying build/lib/whatever4e/chain.py -> build/bdist.macosx-10.6-x86_64/wheel/whatever4e\n",
      "copying build/lib/whatever4e/class_maker.py -> build/bdist.macosx-10.6-x86_64/wheel/whatever4e\n",
      "copying build/lib/whatever4e/magic.py -> build/bdist.macosx-10.6-x86_64/wheel/whatever4e\n",
      "running install_egg_info\n",
      "running egg_info\n",
      "writing whatever_forever.egg-info/PKG-INFO\n",
      "writing top-level names to whatever_forever.egg-info/top_level.txt\n",
      "writing dependency_links to whatever_forever.egg-info/dependency_links.txt\n",
      "writing requirements to whatever_forever.egg-info/requires.txt\n",
      "reading manifest file 'whatever_forever.egg-info/SOURCES.txt'\n",
      "reading manifest template 'MANIFEST.in'\n",
      "warning: no files found matching '*.md'\n",
      "warning: no files found matching '*.ipynb' under directory 'tests/'\n",
      "writing manifest file 'whatever_forever.egg-info/SOURCES.txt'\n",
      "Copying whatever_forever.egg-info to build/bdist.macosx-10.6-x86_64/wheel/whatever_forever-0.0.8-py3.5.egg-info\n",
      "running install_scripts\n",
      "creating build/bdist.macosx-10.6-x86_64/wheel/whatever_forever-0.0.8.dist-info/WHEEL\n",
      "running upload\n",
      "Submitting /Users/fresh/whatever-forever/dist/whatever_forever-0.0.8-py2.py3-none-any.whl to https://pypi.python.org/pypi\n",
      "Server response (200): OK\n"
     ]
    }
   ],
   "source": [
    "!python setup.py register -r pypi\n",
    "!python setup.py sdist\n",
    "!python setup.py bdist_wheel\n",
    "!python setup.py sdist upload -r pypi\n",
    "!python setup.py bdist_wheel upload -r pypi"
   ]
  },
  {
   "cell_type": "code",
   "execution_count": 12,
   "metadata": {
    "collapsed": false
   },
   "outputs": [
    {
     "name": "stdout",
     "output_type": "stream",
     "text": [
      "Requirement already up-to-date: whatever-forever in /Users/fresh/anaconda/lib/python3.5/site-packages\n",
      "Requirement already up-to-date: toolz in /Users/fresh/anaconda/lib/python3.5/site-packages (from whatever-forever)\n"
     ]
    }
   ],
   "source": [
    "!pip install whatever-forever --upgrade"
   ]
  },
  {
   "cell_type": "code",
   "execution_count": 3,
   "metadata": {
    "collapsed": false
   },
   "outputs": [
    {
     "name": "stdout",
     "output_type": "stream",
     "text": [
      "Automation.ipynb          \u001b[34mbuild\u001b[m\u001b[m                     setup.py\r\n",
      "LICENSE                   \u001b[34mdist\u001b[m\u001b[m                      \u001b[34msource\u001b[m\u001b[m\r\n",
      "MANIFEST.in               requirements-dev.txt      \u001b[34mtests\u001b[m\u001b[m\r\n",
      "README.rst                requirements.txt          \u001b[34mwhatever4e\u001b[m\u001b[m\r\n",
      "Untitled1.ipynb           setup.cfg                 \u001b[34mwhatever_forever.egg-info\u001b[m\u001b[m\r\n"
     ]
    }
   ],
   "source": [
    "!ls"
   ]
  },
  {
   "cell_type": "code",
   "execution_count": 11,
   "metadata": {
    "collapsed": false
   },
   "outputs": [],
   "source": [
    "import whatever4e"
   ]
  },
  {
   "cell_type": "code",
   "execution_count": null,
   "metadata": {
    "collapsed": true
   },
   "outputs": [],
   "source": []
  }
 ],
 "metadata": {
  "anaconda-cloud": {},
  "kernelspec": {
   "display_name": "Python [Root]",
   "language": "python",
   "name": "Python [Root]"
  },
  "language_info": {
   "codemirror_mode": {
    "name": "ipython",
    "version": 3
   },
   "file_extension": ".py",
   "mimetype": "text/x-python",
   "name": "python",
   "nbconvert_exporter": "python",
   "pygments_lexer": "ipython3",
   "version": "3.5.2"
  },
  "widgets": {
   "state": {},
   "version": "1.1.0"
  }
 },
 "nbformat": 4,
 "nbformat_minor": 0
}
