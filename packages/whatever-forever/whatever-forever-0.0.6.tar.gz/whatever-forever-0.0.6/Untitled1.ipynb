{
 "cells": [
  {
   "cell_type": "code",
   "execution_count": 25,
   "metadata": {
    "collapsed": true
   },
   "outputs": [],
   "source": [
    "from toolz.curried import *\n",
    "from whatever4e import Chain, Whatever"
   ]
  },
  {
   "cell_type": "code",
   "execution_count": 26,
   "metadata": {
    "collapsed": false
   },
   "outputs": [
    {
     "data": {
      "application/javascript": [
       "require([\n",
       "                        \"notebook/js/codecell\",\n",
       "                        \"codemirror/mode/markdown/markdown\"\n",
       "                    ],\n",
       "                    function(cc){\n",
       "                        cc.CodeCell.options_default.highlight_modes.magic_jinja = {\n",
       "                            reg: [\"^%%jinja\"]\n",
       "                        };\n",
       "                    }\n",
       "                );\n",
       "                "
      ],
      "text/plain": [
       "<IPython.core.display.Javascript object>"
      ]
     },
     "metadata": {},
     "output_type": "display_data"
    },
    {
     "data": {
      "text/plain": [
       "<whatever4e.magic.Whatever at 0x115c0c3c8>"
      ]
     },
     "execution_count": 26,
     "metadata": {},
     "output_type": "execute_result"
    }
   ],
   "source": [
    "from jinja2 import Template\n",
    "from IPython import get_ipython\n",
    "Whatever.cell('jinja', lambda x: Template(x).render(**get_ipython().user_ns), lang='markdown', display='Markdown')"
   ]
  },
  {
   "cell_type": "code",
   "execution_count": 27,
   "metadata": {
    "collapsed": true
   },
   "outputs": [],
   "source": [
    "source_file = \"source/chain.ipynb\""
   ]
  },
  {
   "cell_type": "code",
   "execution_count": 28,
   "metadata": {
    "collapsed": false
   },
   "outputs": [
    {
     "data": {
      "text/markdown": [
       "## A discuss about Chain using it's source code.\n",
       "\n",
       "The chain source code is an Jupyter notebook in the main respository @ `source/chain.ipynb`."
      ],
      "text/plain": [
       "<IPython.core.display.Markdown object>"
      ]
     },
     "metadata": {},
     "output_type": "display_data"
    }
   ],
   "source": [
    "%%jinja\n",
    "## A discuss about Chain using it's source code.\n",
    "\n",
    "The chain source code is an Jupyter notebook in the main respository @ `{{\"source/chain.ipynb\"}}`."
   ]
  },
  {
   "cell_type": "code",
   "execution_count": 29,
   "metadata": {
    "collapsed": true
   },
   "outputs": [],
   "source": [
    "def load_json(fn):\n",
    "    import json\n",
    "    with open(fn, 'r') as f:\n",
    "        return json.load(f)"
   ]
  },
  {
   "cell_type": "code",
   "execution_count": 30,
   "metadata": {
    "collapsed": true
   },
   "outputs": [],
   "source": [
    "import pandas as pd"
   ]
  },
  {
   "cell_type": "code",
   "execution_count": 31,
   "metadata": {
    "collapsed": false
   },
   "outputs": [
    {
     "data": {
      "text/html": [
       "<div>\n",
       "<table border=\"1\" class=\"dataframe\">\n",
       "  <thead>\n",
       "    <tr style=\"text-align: right;\">\n",
       "      <th></th>\n",
       "      <th>cell_type</th>\n",
       "      <th>execution_count</th>\n",
       "      <th>metadata</th>\n",
       "      <th>outputs</th>\n",
       "      <th>source</th>\n",
       "    </tr>\n",
       "  </thead>\n",
       "  <tbody>\n",
       "    <tr>\n",
       "      <th>0</th>\n",
       "      <td>markdown</td>\n",
       "      <td>NaN</td>\n",
       "      <td>{}</td>\n",
       "      <td>NaN</td>\n",
       "      <td>[It should be easier to construct complicated ...</td>\n",
       "    </tr>\n",
       "    <tr>\n",
       "      <th>1</th>\n",
       "      <td>markdown</td>\n",
       "      <td>NaN</td>\n",
       "      <td>{}</td>\n",
       "      <td>NaN</td>\n",
       "      <td>[The only required import is `toolz` from pypi]</td>\n",
       "    </tr>\n",
       "    <tr>\n",
       "      <th>2</th>\n",
       "      <td>code</td>\n",
       "      <td>104.0</td>\n",
       "      <td>{'collapsed': False}</td>\n",
       "      <td>[]</td>\n",
       "      <td>[from class_maker import method\\n, import buil...</td>\n",
       "    </tr>\n",
       "    <tr>\n",
       "      <th>3</th>\n",
       "      <td>code</td>\n",
       "      <td>62.0</td>\n",
       "      <td>{'collapsed': True}</td>\n",
       "      <td>[]</td>\n",
       "      <td>[\"\"\"Compose a function by chaining.\\n, \\n, Cha...</td>\n",
       "    </tr>\n",
       "    <tr>\n",
       "      <th>4</th>\n",
       "      <td>code</td>\n",
       "      <td>90.0</td>\n",
       "      <td>{'collapsed': True}</td>\n",
       "      <td>[]</td>\n",
       "      <td>[new_method = method(Chain)]</td>\n",
       "    </tr>\n",
       "  </tbody>\n",
       "</table>\n",
       "</div>"
      ],
      "text/plain": [
       "  cell_type  execution_count              metadata outputs  \\\n",
       "0  markdown              NaN                    {}     NaN   \n",
       "1  markdown              NaN                    {}     NaN   \n",
       "2      code            104.0  {'collapsed': False}      []   \n",
       "3      code             62.0   {'collapsed': True}      []   \n",
       "4      code             90.0   {'collapsed': True}      []   \n",
       "\n",
       "                                              source  \n",
       "0  [It should be easier to construct complicated ...  \n",
       "1    [The only required import is `toolz` from pypi]  \n",
       "2  [from class_maker import method\\n, import buil...  \n",
       "3  [\"\"\"Compose a function by chaining.\\n, \\n, Cha...  \n",
       "4                       [new_method = method(Chain)]  "
      ]
     },
     "execution_count": 31,
     "metadata": {},
     "output_type": "execute_result"
    }
   ],
   "source": [
    "data = Chain(source_file) | load_json \\\n",
    "    | get('cells') > pd.DataFrame\n",
    "data.head()"
   ]
  },
  {
   "cell_type": "code",
   "execution_count": null,
   "metadata": {
    "collapsed": true
   },
   "outputs": [],
   "source": []
  },
  {
   "cell_type": "code",
   "execution_count": null,
   "metadata": {
    "collapsed": true
   },
   "outputs": [],
   "source": []
  }
 ],
 "metadata": {
  "anaconda-cloud": {},
  "kernelspec": {
   "display_name": "Python [Root]",
   "language": "python",
   "name": "Python [Root]"
  },
  "language_info": {
   "codemirror_mode": {
    "name": "ipython",
    "version": 3
   },
   "file_extension": ".py",
   "mimetype": "text/x-python",
   "name": "python",
   "nbconvert_exporter": "python",
   "pygments_lexer": "ipython3",
   "version": "3.5.1"
  },
  "widgets": {
   "state": {},
   "version": "1.1.0"
  }
 },
 "nbformat": 4,
 "nbformat_minor": 0
}
