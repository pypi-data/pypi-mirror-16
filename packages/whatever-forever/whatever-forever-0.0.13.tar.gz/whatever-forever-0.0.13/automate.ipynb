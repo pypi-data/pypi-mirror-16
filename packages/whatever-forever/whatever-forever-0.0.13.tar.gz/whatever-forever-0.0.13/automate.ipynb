{
 "cells": [
  {
   "cell_type": "markdown",
   "metadata": {},
   "source": [
    "## Automation\n",
    "Nothing too fancy here."
   ]
  },
  {
   "cell_type": "code",
   "execution_count": 11,
   "metadata": {
    "collapsed": false
   },
   "outputs": [
    {
     "name": "stdout",
     "output_type": "stream",
     "text": [
      "Overwriting setup.py\n"
     ]
    }
   ],
   "source": [
    "%%file setup.py\n",
    "from os.path import join, dirname\n",
    "import setuptools\n",
    "\n",
    "def read(fname):\n",
    "    with open(join(dirname(__file__), fname)) as f:\n",
    "        return f.read()\n",
    "\n",
    "setuptools.setup(\n",
    "    name=\"whatever-forever\",\n",
    "    version=\"0.0.13\",\n",
    "    author=\"Tony Fast\",\n",
    "    author_email=\"tony.fast@gmail.com\",\n",
    "    description=\"prototype whatever in the Jupyter notebook\",\n",
    "    license=\"BSD-3-Clause\",\n",
    "    keywords=\"IPython Magic Jupyter\",\n",
    "    url=\"http://github.com/tonyfast/whatever-forever\",\n",
    "    packages=setuptools.find_packages(),\n",
    "    long_description=read(\"README.rst\"),\n",
    "    classifiers=[\n",
    "        \"Topic :: Utilities\",\n",
    "        \"Framework :: IPython\",\n",
    "        \"Natural Language :: English\",\n",
    "        \"Programming Language :: Python\",\n",
    "        \"Intended Audience :: Developers\",\n",
    "        \"Development Status :: 3 - Alpha\",\n",
    "        \"Operating System :: OS Independent\",\n",
    "        \"Programming Language :: Python :: 3\",\n",
    "        \"License :: OSI Approved :: BSD License\",\n",
    "        \"Topic :: Software Development :: Testing\",\n",
    "    ],\n",
    "    install_requires=[\n",
    "        \"toolz\",\n",
    "    ]\n",
    ")"
   ]
  },
  {
   "cell_type": "code",
   "execution_count": 2,
   "metadata": {
    "collapsed": true
   },
   "outputs": [],
   "source": [
    "heading = \"\"\"---\n",
    "layout: index\n",
    "---\n",
    "\"\"\""
   ]
  },
  {
   "cell_type": "code",
   "execution_count": 10,
   "metadata": {
    "collapsed": false
   },
   "outputs": [],
   "source": [
    "import os\n",
    "from glob import glob\n",
    "from pyquery import PyQuery as pq\n",
    "from nbconvert import export_html, export_rst\n",
    "for the_script in glob('whatever/*.py'):\n",
    "    with open(the_script) as f:\n",
    "        src = f.read()\n",
    "\n",
    "for the_docs in [\n",
    "    *glob('whatever/*.ipynb'),\n",
    "    *glob('docs/*.ipynb'), *glob('docs/**/*.ipynb')\n",
    "]:\n",
    "    with open(the_docs) as f:\n",
    "        q = pq(export_html(the_docs)[0])\n",
    "    path = the_docs.split('/')\n",
    "    fn = path[-1]\n",
    "    if path[0] == 'whatever':\n",
    "        path[0] = 'docs/source'\n",
    "    directory = '/'.join(path[:-1])\n",
    "    if not os.path.isdir(directory):\n",
    "        makedirs(directory)\n",
    "    with open(directory+'/'+fn.replace('.ipynb','.html'), 'w') as f:\n",
    "        f.write(\n",
    "            heading\n",
    "            + (\"{}\" if 'index.ipynb' == fn else \"\"\"{{% raw %}}{}{{% endraw %}}\"\"\").format(\n",
    "                    q('body').html())\n",
    "            )\n",
    "\n",
    "directory = 'docs/_layouts'\n",
    "if not os.path.isdir(directory):\n",
    "    makedirs(directory)\n",
    "\n",
    "with open('docs/_layouts/index.html', 'w') as f:\n",
    "    q('body').html('{{content}}', method='html')\n",
    "    f.write(\n",
    "        \"\"\"<!doctype html><html>\"\"\"+q.html(method='html').strip()+\"\"\"</html>\"\"\"\n",
    "    )\n",
    "with open('README.rst', 'w') as f:\n",
    "    f.write(export_rst('docs/tests/test-readme.ipynb')[0])"
   ]
  },
  {
   "cell_type": "markdown",
   "metadata": {},
   "source": [
    "### Run tests"
   ]
  },
  {
   "cell_type": "code",
   "execution_count": 25,
   "metadata": {
    "collapsed": false
   },
   "outputs": [],
   "source": [
    "# !flake8"
   ]
  },
  {
   "cell_type": "markdown",
   "metadata": {},
   "source": [
    "## Test Release for PyPi"
   ]
  }
 ],
 "metadata": {
  "anaconda-cloud": {},
  "kernelspec": {
   "display_name": "Python [Root]",
   "language": "python",
   "name": "Python [Root]"
  },
  "language_info": {
   "codemirror_mode": {
    "name": "ipython",
    "version": 3
   },
   "file_extension": ".py",
   "mimetype": "text/x-python",
   "name": "python",
   "nbconvert_exporter": "python",
   "pygments_lexer": "ipython3",
   "version": "3.5.2"
  }
 },
 "nbformat": 4,
 "nbformat_minor": 0
}
