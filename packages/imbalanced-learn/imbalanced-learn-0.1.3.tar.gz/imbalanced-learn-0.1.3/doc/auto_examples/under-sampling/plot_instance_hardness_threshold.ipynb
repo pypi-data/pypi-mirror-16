{
  "nbformat_minor": 0, 
  "nbformat": 4, 
  "cells": [
    {
      "execution_count": null, 
      "cell_type": "code", 
      "source": [
        "%matplotlib inline"
      ], 
      "outputs": [], 
      "metadata": {
        "collapsed": false
      }
    }, 
    {
      "source": [
        "\n# Instance Hardness Threshold\n\n\nAn illustration of the instance hardness threshold method.\n\n"
      ], 
      "cell_type": "markdown", 
      "metadata": {}
    }, 
    {
      "execution_count": null, 
      "cell_type": "code", 
      "source": [
        "print(__doc__)\n\nimport matplotlib.pyplot as plt\nimport seaborn as sns\nsns.set()\n\n# Define some color for the plotting\nalmost_black = '#262626'\npalette = sns.color_palette()\n\nfrom sklearn.datasets import make_classification\nfrom sklearn.decomposition import PCA\n\nfrom imblearn.under_sampling import InstanceHardnessThreshold\n\n# Generate the dataset\nX, y = make_classification(n_classes=2, class_sep=1., weights=[0.05, 0.95],\n                           n_informative=3, n_redundant=1, flip_y=0,\n                           n_features=20, n_clusters_per_class=1,\n                           n_samples=5000, random_state=10)\n\npca = PCA(n_components=2)\nX_vis = pca.fit_transform(X)\n\n# Two subplots, unpack the axes array immediately\nf, axs = plt.subplots(2, 2)\n\naxs = [a for ax in axs for a in ax]\nfor ax, ratio in zip(axs, [0.0, 0.1, 0.3, 0.5]):\n    if ratio == 0.0:\n        ax.scatter(X_vis[y == 0, 0], X_vis[y == 0, 1], label=\"Class #0\",\n                    alpha=0.5, edgecolor=almost_black, facecolor=palette[0],\n                    linewidth=0.15)\n        ax.scatter(X_vis[y == 1, 0], X_vis[y == 1, 1], label=\"Class #1\",\n                   alpha=0.5, edgecolor=almost_black, facecolor=palette[2],\n                   linewidth=0.15)\n        ax.set_title('Original set')\n    else:\n        iht = InstanceHardnessThreshold(ratio=ratio)\n        X_res, y_res = iht.fit_sample(X, y)\n        X_res_vis = pca.transform(X_res)\n\n        ax.scatter(X_res_vis[y_res == 0, 0], X_res_vis[y_res == 0, 1],\n                   label=\"Class #0\", alpha=.5, edgecolor=almost_black,\n                   facecolor=palette[0], linewidth=0.15)\n        ax.scatter(X_res_vis[y_res == 1, 0], X_res_vis[y_res == 1, 1],\n                   label=\"Class #1\", alpha=.5, edgecolor=almost_black,\n                   facecolor=palette[2], linewidth=0.15)\n        ax.set_title('Instance Hardness Threshold ({})'.format(ratio))\n\nplt.show()"
      ], 
      "outputs": [], 
      "metadata": {
        "collapsed": false
      }
    }
  ], 
  "metadata": {
    "kernelspec": {
      "display_name": "Python 2", 
      "name": "python2", 
      "language": "python"
    }, 
    "language_info": {
      "mimetype": "text/x-python", 
      "nbconvert_exporter": "python", 
      "name": "python", 
      "file_extension": ".py", 
      "version": "2.7.11", 
      "pygments_lexer": "ipython2", 
      "codemirror_mode": {
        "version": 2, 
        "name": "ipython"
      }
    }
  }
}