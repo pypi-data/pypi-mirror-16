{
 "cells": [
  {
   "cell_type": "markdown",
   "metadata": {},
   "source": [
    "# Layered Charts"
   ]
  },
  {
   "cell_type": "markdown",
   "metadata": {},
   "source": [
    "A `LayeredChart` allows you to stack multiple individual charts on top of each other as layers. For example, this could be used to create a chart with both lines and points."
   ]
  },
  {
   "cell_type": "markdown",
   "metadata": {},
   "source": [
    "## Imports"
   ]
  },
  {
   "cell_type": "code",
   "execution_count": 1,
   "metadata": {
    "collapsed": false
   },
   "outputs": [],
   "source": [
    "from altair import *\n",
    "import pandas as pd\n",
    "import numpy as np"
   ]
  },
  {
   "cell_type": "markdown",
   "metadata": {},
   "source": [
    "## Data"
   ]
  },
  {
   "cell_type": "code",
   "execution_count": 2,
   "metadata": {
    "collapsed": true
   },
   "outputs": [],
   "source": [
    "data1 = pd.DataFrame({'x':np.random.rand(10), 'y':np.random.rand(10)})\n",
    "data2 = pd.DataFrame({'x':np.random.rand(10), 'y':np.random.rand(10)})"
   ]
  },
  {
   "cell_type": "code",
   "execution_count": 3,
   "metadata": {
    "collapsed": false
   },
   "outputs": [
    {
     "data": {
      "text/html": [
       "<div>\n",
       "<table border=\"1\" class=\"dataframe\">\n",
       "  <thead>\n",
       "    <tr style=\"text-align: right;\">\n",
       "      <th></th>\n",
       "      <th>x</th>\n",
       "      <th>y</th>\n",
       "    </tr>\n",
       "  </thead>\n",
       "  <tbody>\n",
       "    <tr>\n",
       "      <th>0</th>\n",
       "      <td>0.190968</td>\n",
       "      <td>0.564967</td>\n",
       "    </tr>\n",
       "    <tr>\n",
       "      <th>1</th>\n",
       "      <td>0.797846</td>\n",
       "      <td>0.304841</td>\n",
       "    </tr>\n",
       "    <tr>\n",
       "      <th>2</th>\n",
       "      <td>0.811947</td>\n",
       "      <td>0.795670</td>\n",
       "    </tr>\n",
       "    <tr>\n",
       "      <th>3</th>\n",
       "      <td>0.515873</td>\n",
       "      <td>0.550556</td>\n",
       "    </tr>\n",
       "    <tr>\n",
       "      <th>4</th>\n",
       "      <td>0.093056</td>\n",
       "      <td>0.753825</td>\n",
       "    </tr>\n",
       "  </tbody>\n",
       "</table>\n",
       "</div>"
      ],
      "text/plain": [
       "          x         y\n",
       "0  0.190968  0.564967\n",
       "1  0.797846  0.304841\n",
       "2  0.811947  0.795670\n",
       "3  0.515873  0.550556\n",
       "4  0.093056  0.753825"
      ]
     },
     "execution_count": 3,
     "metadata": {},
     "output_type": "execute_result"
    }
   ],
   "source": [
    "data1.head()"
   ]
  },
  {
   "cell_type": "markdown",
   "metadata": {},
   "source": [
    "## Layered charts"
   ]
  },
  {
   "cell_type": "markdown",
   "metadata": {},
   "source": [
    "If all layers will use the same data, you can create a `LayeredChart` with the data:"
   ]
  },
  {
   "cell_type": "code",
   "execution_count": 4,
   "metadata": {
    "collapsed": true
   },
   "outputs": [],
   "source": [
    "chart = LayeredChart(data1)"
   ]
  },
  {
   "cell_type": "markdown",
   "metadata": {},
   "source": [
    "Layers are then added to the chart by creating individual `Chart` instances (with marks and encoding) and adding them to the `LayeredChart` using the `+=` operator:"
   ]
  },
  {
   "cell_type": "code",
   "execution_count": 5,
   "metadata": {
    "collapsed": false
   },
   "outputs": [],
   "source": [
    "l1 = Chart().mark_line().encode(x='x:Q', y='y:Q')\n",
    "l2 = Chart().mark_point().encode(x='x:Q', y='y:Q')"
   ]
  },
  {
   "cell_type": "code",
   "execution_count": 6,
   "metadata": {
    "collapsed": true
   },
   "outputs": [],
   "source": [
    "chart += l1\n",
    "chart += l2"
   ]
  },
  {
   "cell_type": "markdown",
   "metadata": {},
   "source": [
    "The layers are stored as a list under the `layers` attribute:"
   ]
  },
  {
   "cell_type": "code",
   "execution_count": 7,
   "metadata": {
    "collapsed": false
   },
   "outputs": [
    {
     "data": {
      "text/plain": [
       "[<altair.api.Chart at 0x1061cadd8>, <altair.api.Chart at 0x1061cada0>]"
      ]
     },
     "execution_count": 7,
     "metadata": {},
     "output_type": "execute_result"
    }
   ],
   "source": [
    "chart.layers"
   ]
  },
  {
   "cell_type": "markdown",
   "metadata": {},
   "source": [
    "Displaying the chart will automatically combine the different layers into a single chart, with the appropriate axes:"
   ]
  },
  {
   "cell_type": "code",
   "execution_count": 8,
   "metadata": {
    "collapsed": false
   },
   "outputs": [
    {
     "data": {
      "text/html": [
       "<div class=\"vega-embed\" id=\"d19976ec-d25f-45c3-9fc3-185fed0e3485\"></div>\n",
       "\n",
       "<style>\n",
       ".vega-embed svg, .vega-embed canvas {\n",
       "  border: 1px dotted gray;\n",
       "}\n",
       "\n",
       ".vega-embed .vega-actions a {\n",
       "  margin-right: 6px;\n",
       "}\n",
       "</style>\n"
      ]
     },
     "metadata": {
      "jupyter-vega": "#d19976ec-d25f-45c3-9fc3-185fed0e3485"
     },
     "output_type": "display_data"
    },
    {
     "data": {
      "application/javascript": [
       "var spec = {\"data\": {\"values\": [{\"x\": 0.1909681078481854, \"y\": 0.5649668001167373}, {\"x\": 0.7978460189692443, \"y\": 0.30484053115674536}, {\"x\": 0.8119465653504071, \"y\": 0.7956701734873088}, {\"x\": 0.5158727974577728, \"y\": 0.5505562479792547}, {\"x\": 0.09305593799185075, \"y\": 0.753824894705136}, {\"x\": 0.05866483314767357, \"y\": 0.12822110354905414}, {\"x\": 0.9556853649445384, \"y\": 0.527187548488937}, {\"x\": 0.12239584339800935, \"y\": 0.12974559673282215}, {\"x\": 0.8561012939870087, \"y\": 0.1703465585804862}, {\"x\": 0.568981218828243, \"y\": 0.3233314316251087}]}, \"config\": {\"cell\": {\"width\": 500, \"height\": 350}}, \"layers\": [{\"mark\": \"line\", \"encoding\": {\"x\": {\"field\": \"x\", \"type\": \"quantitative\"}, \"y\": {\"field\": \"y\", \"type\": \"quantitative\"}}}, {\"mark\": \"point\", \"encoding\": {\"x\": {\"field\": \"x\", \"type\": \"quantitative\"}, \"y\": {\"field\": \"y\", \"type\": \"quantitative\"}}}]};\n",
       "var selector = \"#d19976ec-d25f-45c3-9fc3-185fed0e3485\";\n",
       "var type = \"vega-lite\";\n",
       "\n",
       "var output_area = this;\n",
       "require(['nbextensions/jupyter-vega/index'], function(vega) {\n",
       "  vega.render(selector, spec, type, output_area);\n",
       "}, function (err) {\n",
       "  if (err.requireType !== 'scripterror') {\n",
       "    throw(err);\n",
       "  }\n",
       "});\n"
      ]
     },
     "metadata": {
      "jupyter-vega": "#d19976ec-d25f-45c3-9fc3-185fed0e3485"
     },
     "output_type": "display_data"
    },
    {
     "data": {
      "image/png": "[encoded data removed]"
     },
     "metadata": {
      "jupyter-vega": "#d19976ec-d25f-45c3-9fc3-185fed0e3485"
     },
     "output_type": "display_data"
    }
   ],
   "source": [
    "chart"
   ]
  },
  {
   "cell_type": "markdown",
   "metadata": {},
   "source": [
    "If each chart has its own data, you can create individual `Chart` objects, each with their own data, and them simply add them together:"
   ]
  },
  {
   "cell_type": "code",
   "execution_count": 9,
   "metadata": {
    "collapsed": false
   },
   "outputs": [],
   "source": [
    "chart2 = Chart(data1).mark_line(color='#1f77b4').encode(x='x', y='y') + \\\n",
    "         Chart(data2).mark_point(color='#ff7f0e').encode(x='x', y='y')"
   ]
  },
  {
   "cell_type": "code",
   "execution_count": 10,
   "metadata": {
    "collapsed": false
   },
   "outputs": [
    {
     "data": {
      "text/plain": [
       "[<altair.api.Chart at 0x1061ffcc0>, <altair.api.Chart at 0x1061ffeb8>]"
      ]
     },
     "execution_count": 10,
     "metadata": {},
     "output_type": "execute_result"
    }
   ],
   "source": [
    "chart2.layers"
   ]
  },
  {
   "cell_type": "code",
   "execution_count": 11,
   "metadata": {
    "collapsed": false
   },
   "outputs": [
    {
     "data": {
      "text/html": [
       "<div class=\"vega-embed\" id=\"5b5ce604-af37-41fd-97c7-641fff5cd49f\"></div>\n",
       "\n",
       "<style>\n",
       ".vega-embed svg, .vega-embed canvas {\n",
       "  border: 1px dotted gray;\n",
       "}\n",
       "\n",
       ".vega-embed .vega-actions a {\n",
       "  margin-right: 6px;\n",
       "}\n",
       "</style>\n"
      ]
     },
     "metadata": {
      "jupyter-vega": "#5b5ce604-af37-41fd-97c7-641fff5cd49f"
     },
     "output_type": "display_data"
    },
    {
     "data": {
      "application/javascript": [
       "var spec = {\"config\": {\"cell\": {\"width\": 500, \"height\": 350}}, \"layers\": [{\"mark\": \"line\", \"config\": {\"mark\": {\"color\": \"#1f77b4\"}}, \"encoding\": {\"x\": {\"field\": \"x\", \"type\": \"quantitative\"}, \"y\": {\"field\": \"y\", \"type\": \"quantitative\"}}, \"data\": {\"values\": [{\"x\": 0.1909681078481854, \"y\": 0.5649668001167373}, {\"x\": 0.7978460189692443, \"y\": 0.30484053115674536}, {\"x\": 0.8119465653504071, \"y\": 0.7956701734873088}, {\"x\": 0.5158727974577728, \"y\": 0.5505562479792547}, {\"x\": 0.09305593799185075, \"y\": 0.753824894705136}, {\"x\": 0.05866483314767357, \"y\": 0.12822110354905414}, {\"x\": 0.9556853649445384, \"y\": 0.527187548488937}, {\"x\": 0.12239584339800935, \"y\": 0.12974559673282215}, {\"x\": 0.8561012939870087, \"y\": 0.1703465585804862}, {\"x\": 0.568981218828243, \"y\": 0.3233314316251087}]}}, {\"mark\": \"point\", \"config\": {\"mark\": {\"color\": \"#ff7f0e\"}}, \"encoding\": {\"x\": {\"field\": \"x\", \"type\": \"quantitative\"}, \"y\": {\"field\": \"y\", \"type\": \"quantitative\"}}, \"data\": {\"values\": [{\"x\": 0.17544707182722052, \"y\": 0.8741244868376091}, {\"x\": 0.7200117442033296, \"y\": 0.926795720015818}, {\"x\": 0.3000379492198978, \"y\": 0.3613866951006379}, {\"x\": 0.2272597889918183, \"y\": 0.06045500630787726}, {\"x\": 0.9649977556930597, \"y\": 0.8447713465782175}, {\"x\": 0.7619678256460343, \"y\": 0.26514795896198295}, {\"x\": 0.9108863079101983, \"y\": 0.8115973384134056}, {\"x\": 0.8898686046623412, \"y\": 0.009320647346749977}, {\"x\": 0.7925135614519667, \"y\": 0.6193217356240899}, {\"x\": 0.47930070908939393, \"y\": 0.17924224479647455}]}}]};\n",
       "var selector = \"#5b5ce604-af37-41fd-97c7-641fff5cd49f\";\n",
       "var type = \"vega-lite\";\n",
       "\n",
       "var output_area = this;\n",
       "require(['nbextensions/jupyter-vega/index'], function(vega) {\n",
       "  vega.render(selector, spec, type, output_area);\n",
       "}, function (err) {\n",
       "  if (err.requireType !== 'scripterror') {\n",
       "    throw(err);\n",
       "  }\n",
       "});\n"
      ]
     },
     "metadata": {
      "jupyter-vega": "#5b5ce604-af37-41fd-97c7-641fff5cd49f"
     },
     "output_type": "display_data"
    },
    {
     "data": {
      "image/png": "[encoded data removed]"
     },
     "metadata": {
      "jupyter-vega": "#5b5ce604-af37-41fd-97c7-641fff5cd49f"
     },
     "output_type": "display_data"
    }
   ],
   "source": [
    "chart2"
   ]
  }
 ],
 "metadata": {
  "kernelspec": {
   "display_name": "Python 3",
   "language": "python",
   "name": "python3"
  },
  "language_info": {
   "codemirror_mode": {
    "name": "ipython",
    "version": 3
   },
   "file_extension": ".py",
   "mimetype": "text/x-python",
   "name": "python",
   "nbconvert_exporter": "python",
   "pygments_lexer": "ipython3",
   "version": "3.5.1"
  },
  "widgets": {
   "state": {},
   "version": "1.1.0"
  }
 },
 "nbformat": 4,
 "nbformat_minor": 1
}
