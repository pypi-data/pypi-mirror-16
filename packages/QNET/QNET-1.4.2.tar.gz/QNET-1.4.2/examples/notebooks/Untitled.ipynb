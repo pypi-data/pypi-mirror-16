{
 "cells": [
  {
   "cell_type": "code",
   "execution_count": 1,
   "metadata": {
    "collapsed": false
   },
   "outputs": [
    {
     "name": "stdout",
     "output_type": "stream",
     "text": [
      "Populating the interactive namespace from numpy and matplotlib\n"
     ]
    }
   ],
   "source": [
    "%pylab inline\n",
    "plt.style.use(\"ggplot\")\n",
    "from qnet.algebra.circuit_algebra import *"
   ]
  },
  {
   "cell_type": "code",
   "execution_count": 2,
   "metadata": {
    "collapsed": true
   },
   "outputs": [],
   "source": [
    "import qnet.circuit_components.pseudo_nand_latch_cc as pnl\n"
   ]
  },
  {
   "cell_type": "code",
   "execution_count": 9,
   "metadata": {
    "collapsed": true
   },
   "outputs": [],
   "source": [
    "alpha, S, R = symbols(\"alpha, S, R\")\n",
    "\n",
    "L = pnl.PseudoNANDLatch(\"L\").coherent_input(alpha-S, 0, 0, alpha-R, 0, 0).toSLH().expand()\n"
   ]
  },
  {
   "cell_type": "code",
   "execution_count": 10,
   "metadata": {
    "collapsed": false
   },
   "outputs": [
    {
     "data": {
      "text/latex": [
       "$\\left( \\begin{pmatrix} \\frac{\\sqrt{2}}{2} & 0 & \\frac{\\sqrt{2}}{2} e^{i \\phi} \\sin{\\left (\\theta \\right )} & 0 & - \\frac{\\sqrt{2}}{2} e^{i \\phi} \\cos{\\left (\\theta \\right )} & 0 \\\\ \\frac{\\sqrt{2}}{2} & 0 & - \\frac{\\sqrt{2}}{2} e^{i \\phi} \\sin{\\left (\\theta \\right )} & 0 & \\frac{\\sqrt{2}}{2} e^{i \\phi} \\cos{\\left (\\theta \\right )} & 0 \\\\ 0 & 0 & \\cos{\\left (\\theta \\right )} & 0 & \\sin{\\left (\\theta \\right )} & 0 \\\\ 0 & - \\frac{\\sqrt{2}}{2} e^{i \\phi} \\cos{\\left (\\theta \\right )} & 0 & \\frac{\\sqrt{2}}{2} & 0 & \\frac{\\sqrt{2}}{2} e^{i \\phi} \\sin{\\left (\\theta \\right )} \\\\ 0 & \\frac{\\sqrt{2}}{2} e^{i \\phi} \\cos{\\left (\\theta \\right )} & 0 & \\frac{\\sqrt{2}}{2} & 0 & - \\frac{\\sqrt{2}}{2} e^{i \\phi} \\sin{\\left (\\theta \\right )} \\\\ 0 & \\sin{\\left (\\theta \\right )} & 0 & 0 & 0 & \\cos{\\left (\\theta \\right )}\\end{pmatrix}, \\begin{pmatrix}  - \\left(\\frac{\\sqrt{2} \\beta}{2} e^{i \\phi} \\cos{\\left (\\theta \\right )} - \\frac{\\sqrt{2}}{2} \\left(- S + \\alpha\\right)\\right) +  \\frac{\\sqrt{2} \\sqrt{\\kappa}}{2} e^{i \\phi} \\sin{\\left (\\theta \\right )} {a_{{{\\rm L.NAND2.K}}}} \\\\  \\left(\\frac{\\sqrt{2} \\beta}{2} e^{i \\phi} \\cos{\\left (\\theta \\right )} + \\frac{\\sqrt{2}}{2} \\left(- S + \\alpha\\right)\\right) +  \\sqrt{\\kappa} {a_{{{\\rm L.NAND1.K}}}} -  \\frac{\\sqrt{2} \\sqrt{\\kappa}}{2} e^{i \\phi} \\sin{\\left (\\theta \\right )} {a_{{{\\rm L.NAND2.K}}}} \\\\  \\beta \\sin{\\left (\\theta \\right )} +  \\sqrt{\\kappa} \\cos{\\left (\\theta \\right )} {a_{{{\\rm L.NAND2.K}}}} \\\\  - \\left(\\frac{\\sqrt{2} \\beta}{2} e^{i \\phi} \\cos{\\left (\\theta \\right )} - \\frac{\\sqrt{2}}{2} \\left(- R + \\alpha\\right)\\right) +  \\frac{\\sqrt{2} \\sqrt{\\kappa}}{2} e^{i \\phi} \\sin{\\left (\\theta \\right )} {a_{{{\\rm L.NAND1.K}}}} \\\\  \\left(\\frac{\\sqrt{2} \\beta}{2} e^{i \\phi} \\cos{\\left (\\theta \\right )} + \\frac{\\sqrt{2}}{2} \\left(- R + \\alpha\\right)\\right) -  \\frac{\\sqrt{2} \\sqrt{\\kappa}}{2} e^{i \\phi} \\sin{\\left (\\theta \\right )} {a_{{{\\rm L.NAND1.K}}}} +  \\sqrt{\\kappa} {a_{{{\\rm L.NAND2.K}}}} \\\\  \\beta \\sin{\\left (\\theta \\right )} +  \\sqrt{\\kappa} \\cos{\\left (\\theta \\right )} {a_{{{\\rm L.NAND1.K}}}}\\end{pmatrix},  - \\left(\\frac{i \\beta}{4} \\sqrt{2} e^{i \\phi} \\cos{\\left (\\theta \\right )} \\overline{\\sqrt{\\kappa}} + \\frac{\\sqrt{2} i}{4} \\left(- S + \\alpha\\right) \\overline{\\sqrt{\\kappa}}\\right) {a_{{{\\rm L.NAND1.K}}}^\\dagger} -  \\left(\\frac{i \\beta}{4} \\sqrt{2} e^{i \\phi} \\cos{\\left (\\theta \\right )} \\overline{\\sqrt{\\kappa}} + \\frac{\\sqrt{2} i}{4} \\left(- R + \\alpha\\right) \\overline{\\sqrt{\\kappa}}\\right) {a_{{{\\rm L.NAND2.K}}}^\\dagger} +  \\left(\\frac{\\sqrt{2} i}{4} \\sqrt{\\kappa} \\left(- \\overline{S} + \\overline{\\alpha}\\right) + \\frac{\\sqrt{2} i}{4} \\sqrt{\\kappa} e^{- i \\phi} \\cos{\\left (\\theta \\right )} \\overline{\\beta}\\right) {a_{{{\\rm L.NAND1.K}}}} +  \\left(\\frac{\\sqrt{2} i}{4} \\sqrt{\\kappa} \\left(- \\overline{R} + \\overline{\\alpha}\\right) + \\frac{\\sqrt{2} i}{4} \\sqrt{\\kappa} e^{- i \\phi} \\cos{\\left (\\theta \\right )} \\overline{\\beta}\\right) {a_{{{\\rm L.NAND2.K}}}} +  \\chi  {a_{{{\\rm L.NAND1.K}}}^\\dagger} {a_{{{\\rm L.NAND1.K}}}^\\dagger} {a_{{{\\rm L.NAND1.K}}}} {a_{{{\\rm L.NAND1.K}}}} +  \\Delta  {a_{{{\\rm L.NAND1.K}}}^\\dagger} {a_{{{\\rm L.NAND1.K}}}} +  \\left(\\frac{\\sqrt{2} i}{4} \\sqrt{\\kappa} e^{i \\phi} \\sin{\\left (\\theta \\right )} \\overline{\\sqrt{\\kappa}} - \\frac{\\sqrt{2} i}{4} \\sqrt{\\kappa} e^{- i \\phi} \\sin{\\left (\\theta \\right )} \\overline{\\sqrt{\\kappa}}\\right)  {a_{{{\\rm L.NAND1.K}}}^\\dagger} {a_{{{\\rm L.NAND2.K}}}} +  \\chi  {a_{{{\\rm L.NAND2.K}}}^\\dagger} {a_{{{\\rm L.NAND2.K}}}^\\dagger} {a_{{{\\rm L.NAND2.K}}}} {a_{{{\\rm L.NAND2.K}}}} +  \\Delta  {a_{{{\\rm L.NAND2.K}}}^\\dagger} {a_{{{\\rm L.NAND2.K}}}} +  \\left(\\frac{\\sqrt{2} i}{4} \\sqrt{\\kappa} e^{i \\phi} \\sin{\\left (\\theta \\right )} \\overline{\\sqrt{\\kappa}} - \\frac{\\sqrt{2} i}{4} \\sqrt{\\kappa} e^{- i \\phi} \\sin{\\left (\\theta \\right )} \\overline{\\sqrt{\\kappa}}\\right)  {a_{{{\\rm L.NAND1.K}}}} {a_{{{\\rm L.NAND2.K}}}^\\dagger} \\right)$"
      ],
      "text/plain": [
       "SLH(Matrix([[sqrt(2)/2, 0, sqrt(2)*exp(I*phi)*sin(theta)/2, 0, -sqrt(2)*exp(I*phi)*cos(theta)/2, 0], [sqrt(2)/2, 0, -sqrt(2)*exp(I*phi)*sin(theta)/2, 0, sqrt(2)*exp(I*phi)*cos(theta)/2, 0], [0, 0, cos(theta), 0, sin(theta), 0], [0, -sqrt(2)*exp(I*phi)*cos(theta)/2, 0, sqrt(2)/2, 0, sqrt(2)*exp(I*phi)*sin(theta)/2], [0, sqrt(2)*exp(I*phi)*cos(theta)/2, 0, sqrt(2)/2, 0, -sqrt(2)*exp(I*phi)*sin(theta)/2], [0, sin(theta), 0, 0, 0, cos(theta)]]), Matrix([[OperatorPlus(ScalarTimesOperator(-sqrt(2)*beta*exp(I*phi)*cos(theta)/2 + sqrt(2)*(-S + alpha)/2, IdentityOperator), ScalarTimesOperator(sqrt(2)*sqrt(kappa)*exp(I*phi)*sin(theta)/2, Destroy(LocalSpace('L.NAND2.K', ''))))], [OperatorPlus(ScalarTimesOperator(sqrt(2)*beta*exp(I*phi)*cos(theta)/2 + sqrt(2)*(-S + alpha)/2, IdentityOperator), ScalarTimesOperator(sqrt(kappa), Destroy(LocalSpace('L.NAND1.K', ''))), ScalarTimesOperator(-sqrt(2)*sqrt(kappa)*exp(I*phi)*sin(theta)/2, Destroy(LocalSpace('L.NAND2.K', ''))))], [OperatorPlus(ScalarTimesOperator(beta*sin(theta), IdentityOperator), ScalarTimesOperator(sqrt(kappa)*cos(theta), Destroy(LocalSpace('L.NAND2.K', ''))))], [OperatorPlus(ScalarTimesOperator(-sqrt(2)*beta*exp(I*phi)*cos(theta)/2 + sqrt(2)*(-R + alpha)/2, IdentityOperator), ScalarTimesOperator(sqrt(2)*sqrt(kappa)*exp(I*phi)*sin(theta)/2, Destroy(LocalSpace('L.NAND1.K', ''))))], [OperatorPlus(ScalarTimesOperator(sqrt(2)*beta*exp(I*phi)*cos(theta)/2 + sqrt(2)*(-R + alpha)/2, IdentityOperator), ScalarTimesOperator(-sqrt(2)*sqrt(kappa)*exp(I*phi)*sin(theta)/2, Destroy(LocalSpace('L.NAND1.K', ''))), ScalarTimesOperator(sqrt(kappa), Destroy(LocalSpace('L.NAND2.K', ''))))], [OperatorPlus(ScalarTimesOperator(beta*sin(theta), IdentityOperator), ScalarTimesOperator(sqrt(kappa)*cos(theta), Destroy(LocalSpace('L.NAND1.K', ''))))]]), OperatorPlus(ScalarTimesOperator(-sqrt(2)*I*beta*exp(I*phi)*cos(theta)*conjugate(sqrt(kappa))/4 - sqrt(2)*I*(-S + alpha)*conjugate(sqrt(kappa))/4, Create(LocalSpace('L.NAND1.K', ''))), ScalarTimesOperator(-sqrt(2)*I*beta*exp(I*phi)*cos(theta)*conjugate(sqrt(kappa))/4 - sqrt(2)*I*(-R + alpha)*conjugate(sqrt(kappa))/4, Create(LocalSpace('L.NAND2.K', ''))), ScalarTimesOperator(sqrt(2)*I*sqrt(kappa)*(-conjugate(S) + conjugate(alpha))/4 + sqrt(2)*I*sqrt(kappa)*exp(-I*phi)*cos(theta)*conjugate(beta)/4, Destroy(LocalSpace('L.NAND1.K', ''))), ScalarTimesOperator(sqrt(2)*I*sqrt(kappa)*(-conjugate(R) + conjugate(alpha))/4 + sqrt(2)*I*sqrt(kappa)*exp(-I*phi)*cos(theta)*conjugate(beta)/4, Destroy(LocalSpace('L.NAND2.K', ''))), ScalarTimesOperator(chi, OperatorTimes(Create(LocalSpace('L.NAND1.K', '')), Create(LocalSpace('L.NAND1.K', '')), Destroy(LocalSpace('L.NAND1.K', '')), Destroy(LocalSpace('L.NAND1.K', '')))), ScalarTimesOperator(Delta, OperatorTimes(Create(LocalSpace('L.NAND1.K', '')), Destroy(LocalSpace('L.NAND1.K', '')))), ScalarTimesOperator(sqrt(2)*I*sqrt(kappa)*exp(I*phi)*sin(theta)*conjugate(sqrt(kappa))/4 - sqrt(2)*I*sqrt(kappa)*exp(-I*phi)*sin(theta)*conjugate(sqrt(kappa))/4, OperatorTimes(Create(LocalSpace('L.NAND1.K', '')), Destroy(LocalSpace('L.NAND2.K', '')))), ScalarTimesOperator(chi, OperatorTimes(Create(LocalSpace('L.NAND2.K', '')), Create(LocalSpace('L.NAND2.K', '')), Destroy(LocalSpace('L.NAND2.K', '')), Destroy(LocalSpace('L.NAND2.K', '')))), ScalarTimesOperator(Delta, OperatorTimes(Create(LocalSpace('L.NAND2.K', '')), Destroy(LocalSpace('L.NAND2.K', '')))), ScalarTimesOperator(sqrt(2)*I*sqrt(kappa)*exp(I*phi)*sin(theta)*conjugate(sqrt(kappa))/4 - sqrt(2)*I*sqrt(kappa)*exp(-I*phi)*sin(theta)*conjugate(sqrt(kappa))/4, OperatorTimes(Destroy(LocalSpace('L.NAND1.K', '')), Create(LocalSpace('L.NAND2.K', ''))))))"
      ]
     },
     "execution_count": 10,
     "metadata": {},
     "output_type": "execute_result"
    }
   ],
   "source": [
    "L"
   ]
  },
  {
   "cell_type": "code",
   "execution_count": 12,
   "metadata": {
    "collapsed": false
   },
   "outputs": [
    {
     "data": {
      "text/plain": [
       "[Delta, R, S, alpha, beta, chi, kappa, phi, theta]"
      ]
     },
     "execution_count": 12,
     "metadata": {},
     "output_type": "execute_result"
    }
   ],
   "source": [
    "Delta, R, S, alpha, beta, chi, kappa, phi, theta = sorted(L.all_symbols(), key=str)\n",
    "sorted(L.all_symbols(), key=str)"
   ]
  },
  {
   "cell_type": "code",
   "execution_count": 14,
   "metadata": {
    "collapsed": false
   },
   "outputs": [
    {
     "data": {
      "text/latex": [
       "$\\left( \\begin{pmatrix} \\frac{\\sqrt{2}}{2} & 0 & 0.388850385456327 \\sqrt{2} e^{2.546 i} & 0 & - 0.314317320124847 \\sqrt{2} e^{2.546 i} & 0 \\\\ \\frac{\\sqrt{2}}{2} & 0 & - 0.388850385456327 \\sqrt{2} e^{2.546 i} & 0 & 0.314317320124847 \\sqrt{2} e^{2.546 i} & 0 \\\\ 0 & 0 & 0.628634640249695 & 0 & 0.777700770912654 & 0 \\\\ 0 & - 0.314317320124847 \\sqrt{2} e^{2.546 i} & 0 & \\frac{\\sqrt{2}}{2} & 0 & 0.388850385456327 \\sqrt{2} e^{2.546 i} \\\\ 0 & 0.314317320124847 \\sqrt{2} e^{2.546 i} & 0 & \\frac{\\sqrt{2}}{2} & 0 & - 0.388850385456327 \\sqrt{2} e^{2.546 i} \\\\ 0 & 0.777700770912654 & 0 & 0 & 0 & 0.628634640249695\\end{pmatrix}, \\begin{pmatrix}  \\frac{\\sqrt{2}}{2} \\left(- S + 22.6274 + 2 \\left(10.7776265897609 + 3.74320496536681 i\\right) e^{2.546 i}\\right) +  1.94425192728164 \\sqrt{2} e^{2.546 i} {a_{{{\\rm L.NAND2.K}}}} \\\\  \\frac{\\sqrt{2}}{2} \\left(- S + 22.6274 - 2 \\left(10.7776265897609 + 3.74320496536681 i\\right) e^{2.546 i}\\right) +  5.0 {a_{{{\\rm L.NAND1.K}}}} -  1.94425192728164 \\sqrt{2} e^{2.546 i} {a_{{{\\rm L.NAND2.K}}}} \\\\  - \\left(26.666581733824 + 9.2616384807988 i\\right) +  3.14317320124847 {a_{{{\\rm L.NAND2.K}}}} \\\\  \\frac{\\sqrt{2}}{2} \\left(- R + 22.6274 + 2 \\left(10.7776265897609 + 3.74320496536681 i\\right) e^{2.546 i}\\right) +  1.94425192728164 \\sqrt{2} e^{2.546 i} {a_{{{\\rm L.NAND1.K}}}} \\\\  \\frac{\\sqrt{2}}{2} \\left(- R + 22.6274 - 2 \\left(10.7776265897609 + 3.74320496536681 i\\right) e^{2.546 i}\\right) -  1.94425192728164 \\sqrt{2} e^{2.546 i} {a_{{{\\rm L.NAND1.K}}}} +  5.0 {a_{{{\\rm L.NAND2.K}}}} \\\\  - \\left(26.666581733824 + 9.2616384807988 i\\right) +  3.14317320124847 {a_{{{\\rm L.NAND1.K}}}}\\end{pmatrix},  \\sqrt{2} i \\left(1.25 S - 28.28425 + \\left(26.9440664744022 + 9.35801241341702 i\\right) e^{2.546 i}\\right) {a_{{{\\rm L.NAND1.K}}}^\\dagger} +  \\sqrt{2} i \\left(1.25 R - 28.28425 + \\left(26.9440664744022 + 9.35801241341702 i\\right) e^{2.546 i}\\right) {a_{{{\\rm L.NAND2.K}}}^\\dagger} +  \\sqrt{2} i \\left(\\left(- 1.25 \\overline{S} + 28.28425\\right) e^{2.546 i} - 26.9440664744022 + 9.35801241341702 i\\right) e^{- 2.546 i} {a_{{{\\rm L.NAND1.K}}}} +  \\sqrt{2} i \\left(\\left(- 1.25 \\overline{R} + 28.28425\\right) e^{2.546 i} - 26.9440664744022 + 9.35801241341702 i\\right) e^{- 2.546 i} {a_{{{\\rm L.NAND2.K}}}} -  0.833333333333333  {a_{{{\\rm L.NAND1.K}}}^\\dagger} {a_{{{\\rm L.NAND1.K}}}^\\dagger} {a_{{{\\rm L.NAND1.K}}}} {a_{{{\\rm L.NAND1.K}}}} +  50.0  {a_{{{\\rm L.NAND1.K}}}^\\dagger} {a_{{{\\rm L.NAND1.K}}}} -  5.45362141835291 \\sqrt{2}  {a_{{{\\rm L.NAND1.K}}}^\\dagger} {a_{{{\\rm L.NAND2.K}}}} -  0.833333333333333  {a_{{{\\rm L.NAND2.K}}}^\\dagger} {a_{{{\\rm L.NAND2.K}}}^\\dagger} {a_{{{\\rm L.NAND2.K}}}} {a_{{{\\rm L.NAND2.K}}}} +  50.0  {a_{{{\\rm L.NAND2.K}}}^\\dagger} {a_{{{\\rm L.NAND2.K}}}} -  5.45362141835291 \\sqrt{2}  {a_{{{\\rm L.NAND1.K}}}} {a_{{{\\rm L.NAND2.K}}}^\\dagger} \\right)$"
      ],
      "text/plain": [
       "SLH(Matrix([[sqrt(2)/2, 0, 0.388850385456327*sqrt(2)*exp(2.546*I), 0, -0.314317320124847*sqrt(2)*exp(2.546*I), 0], [sqrt(2)/2, 0, -0.388850385456327*sqrt(2)*exp(2.546*I), 0, 0.314317320124847*sqrt(2)*exp(2.546*I), 0], [0, 0, 0.628634640249695, 0, 0.777700770912654, 0], [0, -0.314317320124847*sqrt(2)*exp(2.546*I), 0, sqrt(2)/2, 0, 0.388850385456327*sqrt(2)*exp(2.546*I)], [0, 0.314317320124847*sqrt(2)*exp(2.546*I), 0, sqrt(2)/2, 0, -0.388850385456327*sqrt(2)*exp(2.546*I)], [0, 0.777700770912654, 0, 0, 0, 0.628634640249695]]), Matrix([[OperatorPlus(ScalarTimesOperator(sqrt(2)*(-S + 22.6274 + 2*(10.7776265897609 + 3.74320496536681*I)*exp(2.546*I))/2, IdentityOperator), ScalarTimesOperator(1.94425192728164*sqrt(2)*exp(2.546*I), Destroy(LocalSpace('L.NAND2.K', ''))))], [OperatorPlus(ScalarTimesOperator(sqrt(2)*(-S + 22.6274 - 2*(10.7776265897609 + 3.74320496536681*I)*exp(2.546*I))/2, IdentityOperator), ScalarTimesOperator(5.00000000000000, Destroy(LocalSpace('L.NAND1.K', ''))), ScalarTimesOperator(-1.94425192728164*sqrt(2)*exp(2.546*I), Destroy(LocalSpace('L.NAND2.K', ''))))], [OperatorPlus(ScalarTimesOperator(-26.666581733824 - 9.2616384807988*I, IdentityOperator), ScalarTimesOperator(3.14317320124847, Destroy(LocalSpace('L.NAND2.K', ''))))], [OperatorPlus(ScalarTimesOperator(sqrt(2)*(-R + 22.6274 + 2*(10.7776265897609 + 3.74320496536681*I)*exp(2.546*I))/2, IdentityOperator), ScalarTimesOperator(1.94425192728164*sqrt(2)*exp(2.546*I), Destroy(LocalSpace('L.NAND1.K', ''))))], [OperatorPlus(ScalarTimesOperator(sqrt(2)*(-R + 22.6274 - 2*(10.7776265897609 + 3.74320496536681*I)*exp(2.546*I))/2, IdentityOperator), ScalarTimesOperator(-1.94425192728164*sqrt(2)*exp(2.546*I), Destroy(LocalSpace('L.NAND1.K', ''))), ScalarTimesOperator(5.00000000000000, Destroy(LocalSpace('L.NAND2.K', ''))))], [OperatorPlus(ScalarTimesOperator(-26.666581733824 - 9.2616384807988*I, IdentityOperator), ScalarTimesOperator(3.14317320124847, Destroy(LocalSpace('L.NAND1.K', ''))))]]), OperatorPlus(ScalarTimesOperator(sqrt(2)*I*(1.25*S - 28.28425 + (26.9440664744022 + 9.35801241341702*I)*exp(2.546*I)), Create(LocalSpace('L.NAND1.K', ''))), ScalarTimesOperator(sqrt(2)*I*(1.25*R - 28.28425 + (26.9440664744022 + 9.35801241341702*I)*exp(2.546*I)), Create(LocalSpace('L.NAND2.K', ''))), ScalarTimesOperator(sqrt(2)*I*((-1.25*conjugate(S) + 28.28425)*exp(2.546*I) - 26.9440664744022 + 9.35801241341702*I)*exp(-2.546*I), Destroy(LocalSpace('L.NAND1.K', ''))), ScalarTimesOperator(sqrt(2)*I*((-1.25*conjugate(R) + 28.28425)*exp(2.546*I) - 26.9440664744022 + 9.35801241341702*I)*exp(-2.546*I), Destroy(LocalSpace('L.NAND2.K', ''))), ScalarTimesOperator(-0.833333333333333, OperatorTimes(Create(LocalSpace('L.NAND1.K', '')), Create(LocalSpace('L.NAND1.K', '')), Destroy(LocalSpace('L.NAND1.K', '')), Destroy(LocalSpace('L.NAND1.K', '')))), ScalarTimesOperator(50.0000000000000, OperatorTimes(Create(LocalSpace('L.NAND1.K', '')), Destroy(LocalSpace('L.NAND1.K', '')))), ScalarTimesOperator(-5.45362141835291*sqrt(2), OperatorTimes(Create(LocalSpace('L.NAND1.K', '')), Destroy(LocalSpace('L.NAND2.K', '')))), ScalarTimesOperator(-0.833333333333333, OperatorTimes(Create(LocalSpace('L.NAND2.K', '')), Create(LocalSpace('L.NAND2.K', '')), Destroy(LocalSpace('L.NAND2.K', '')), Destroy(LocalSpace('L.NAND2.K', '')))), ScalarTimesOperator(50.0000000000000, OperatorTimes(Create(LocalSpace('L.NAND2.K', '')), Destroy(LocalSpace('L.NAND2.K', '')))), ScalarTimesOperator(-5.45362141835291*sqrt(2), OperatorTimes(Destroy(LocalSpace('L.NAND1.K', '')), Create(LocalSpace('L.NAND2.K', ''))))))"
      ]
     },
     "execution_count": 14,
     "metadata": {},
     "output_type": "execute_result"
    }
   ],
   "source": [
    "# numerical values for simulation\n",
    "\n",
    "logic_1 = 22.6274                              # logical 'one' amplitude\n",
    "\n",
    "nvals = {\n",
    "                  alpha: logic_1,\n",
    "                  beta: -34.289-11.909j,     # bias input for pseudo-nands\n",
    "                  kappa: 25.,                # Kerr-Cavity mirror couplings\n",
    "                  Delta: 50.,                # Kerr-Cavity Detuning\n",
    "                  chi : -50./60.,            # Kerr-Non-Linear coupling coefficient\n",
    "                  theta: 0.891,              # pseudo-nand beamsplitter mixing angle\n",
    "                  phi: 2.546,                # pseudo-nand corrective phase\n",
    "    }\n",
    "\n",
    "Ln = L.substitute(nvals).expand().simplify_scalar()\n",
    "Ln"
   ]
  },
  {
   "cell_type": "code",
   "execution_count": 15,
   "metadata": {
    "collapsed": true
   },
   "outputs": [],
   "source": [
    "HOLD = {S: 0, R:0}\n",
    "SET = {S: logic_1, R:0}\n",
    "RESET = {S: 0, R:logic_1}"
   ]
  },
  {
   "cell_type": "code",
   "execution_count": 37,
   "metadata": {
    "collapsed": false
   },
   "outputs": [
    {
     "name": "stdout",
     "output_type": "stream",
     "text": [
      "Solving...\n",
      "Total run time:  48.56s\n",
      "next...\n",
      "Total run time:  61.70s\n",
      "next...\n",
      "Total run time:  49.50s\n",
      "next...\n",
      "Total run time:  60.63s\n"
     ]
    }
   ],
   "source": [
    "tlist5 = linspace(0, .5, 51)\n",
    "tlist15 = linspace(0, 1.5, 151)\n",
    "tlist1 = linspace(0, 1., 101)\n",
    "\n",
    "HLHOLD = Ln.substitute(HOLD).HL_to_qutip()\n",
    "HLSET = Ln.substitute(SET).HL_to_qutip()\n",
    "HLRESET = Ln.substitute(RESET).HL_to_qutip()\n",
    "import qutip\n",
    "psi0 = qutip.tensor(qutip.basis(Ln.space.local_factors()[0].dimension, 0), qutip.basis(Ln.space.local_factors()[1].dimension, 0))\n",
    "\n",
    "print(\"Solving...\")\n",
    "res1 = qutip.mcsolve(HLSET[0], psi0, tlist1, HLSET[1], [], ntraj=1)\n",
    "print(\"next...\")\n",
    "res2 = qutip.mcsolve(HLHOLD[0], res1.states[-1][-1], tlist1, HLHOLD[1], [], ntraj=1)\n",
    "print(\"next...\")\n",
    "res3 = qutip.mcsolve(HLRESET[0], res2.states[-1][-1], tlist1, HLRESET[1], [], ntraj=1)\n",
    "print(\"next...\")\n",
    "res4 = qutip.mcsolve(HLHOLD[0], res3.states[-1][-1], tlist1, HLHOLD[1], [], ntraj=1)"
   ]
  },
  {
   "cell_type": "code",
   "execution_count": 38,
   "metadata": {
    "collapsed": false
   },
   "outputs": [],
   "source": [
    "a1, a2 = [Destroy(sj) for sj in Ln.space.local_factors()]\n",
    "nq1, nq2 = [(aj.dag()*aj).to_qutip(full_space=Ln.space) for aj in [a1, a2]]"
   ]
  },
  {
   "cell_type": "code",
   "execution_count": 39,
   "metadata": {
    "collapsed": false
   },
   "outputs": [],
   "source": [
    "states = np.hstack([res1.states[0], res2.states[0], res3.states[0], res4.states[0]])"
   ]
  },
  {
   "cell_type": "code",
   "execution_count": 40,
   "metadata": {
    "collapsed": true
   },
   "outputs": [],
   "source": [
    "obs = qutip.expect([nq1, nq2], states)"
   ]
  },
  {
   "cell_type": "code",
   "execution_count": 41,
   "metadata": {
    "collapsed": false
   },
   "outputs": [
    {
     "data": {
      "text/plain": [
       "[<matplotlib.lines.Line2D at 0x108527550>]"
      ]
     },
     "execution_count": 41,
     "metadata": {},
     "output_type": "execute_result"
    },
    {
     "data": {
      "image/png": "[encoded data removed]",
      "text/plain": [
       "<matplotlib.figure.Figure at 0x108bc0e10>"
      ]
     },
     "metadata": {},
     "output_type": "display_data"
    }
   ],
   "source": [
    "plot(obs[0])\n",
    "plot(obs[1])"
   ]
  },
  {
   "cell_type": "code",
   "execution_count": null,
   "metadata": {
    "collapsed": true
   },
   "outputs": [],
   "source": []
  }
 ],
 "metadata": {
  "kernelspec": {
   "display_name": "Python 2",
   "language": "python",
   "name": "python2"
  },
  "language_info": {
   "codemirror_mode": {
    "name": "ipython",
    "version": 2
   },
   "file_extension": ".py",
   "mimetype": "text/x-python",
   "name": "python",
   "nbconvert_exporter": "python",
   "pygments_lexer": "ipython2",
   "version": "2.7.11"
  }
 },
 "nbformat": 4,
 "nbformat_minor": 0
}
