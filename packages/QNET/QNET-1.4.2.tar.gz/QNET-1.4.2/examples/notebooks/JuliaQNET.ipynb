{
 "cells": [
  {
   "cell_type": "code",
   "execution_count": 1,
   "metadata": {
    "collapsed": false
   },
   "outputs": [
    {
     "name": "stdout",
     "output_type": "stream",
     "text": [
      "Julia Version 0.4.1\n"
     ]
    }
   ],
   "source": [
    "versioninfo()\n"
   ]
  },
  {
   "cell_type": "code",
   "execution_count": 1,
   "metadata": {
    "collapsed": false
   },
   "outputs": [],
   "source": [
    "using SymPy\n",
    "using PyCall\n"
   ]
  },
  {
   "cell_type": "code",
   "execution_count": 123,
   "metadata": {
    "collapsed": false,
    "scrolled": false
   },
   "outputs": [
    {
     "name": "stderr",
     "output_type": "stream",
     "text": [
      "WARNING: replacing module QNET\n"
     ]
    },
    {
     "data": {
      "text/plain": [
       "QNET"
      ]
     },
     "execution_count": 123,
     "metadata": {},
     "output_type": "execute_result"
    }
   ],
   "source": [
    "module QNET\n",
    "using SymPy\n",
    "using PyCall\n",
    "\n",
    "@pyimport qnet.algebra.circuit_algebra as ca\n",
    "import Base:show, writemime, (*), (+), (-), (/), (<<), (|), (==), promote_rule, convert, getindex\n",
    "import SymPy:latex\n",
    "\n",
    "\n",
    "export QSym, Create, Destroy, LocalSigma, dag, simplify, expand, substitute, operands\n",
    "\n",
    "type QSym{T} <: Number\n",
    "    x::PyObject\n",
    "end\n",
    "QSym(T::Symbol, x::PyObject) = QSym{T}(x)\n",
    "QSym(x::PyObject) = QSym(Symbol(x[:__class__][:__name__]), x)\n",
    "QSym(x::Symbol; kwargs...) = QSym(SymPy.symbols(string(x); kwargs...).x)\n",
    "\n",
    "## text/latex -- for IJulia\n",
    "function latex(s::QSym)\n",
    "    ca.tex(s.x)\n",
    "end\n",
    "writemime(io::IO, ::MIME\"text/latex\", x::QSym) = print(io, \"\\$\" * latex(x) * \"\\$\")\n",
    "# writemime{N}(io::IO, ::MIME\"text/latex\", x::NTuple{N,QSym}) = print(io, \"\\$\\\\left(\" * join(map(latex,x), \",\\\\;\") * \"\\\\right)\\$\")\n",
    "writemime{S<:QSym}(io::IO, ::MIME\"text/latex\", x::Vector{S}) = print(io, \"\\$\\\\left[\" * join(map(latex,x), \",\\\\;\") * \"\\\\right]\\$\")\n",
    "\n",
    "\n",
    "NotImplemented = pyeval(\"NotImplemented\")\n",
    "\n",
    "QSymTypes = Union{QSym,Symbol,Number,PyObject}\n",
    "\n",
    "for op in [:(*), :(<<), :(-), :(/), :(+), :(|), :(==)]\n",
    "    opstr = \"a $op b\"\n",
    "    @eval function $op(a::QSym, b::QSym)\n",
    "        res = pyeval($opstr; a=a.x, b=b.x)\n",
    "        if res == NotImplemented\n",
    "            error(\"Cannot compute  $a $op $b\")\n",
    "        end\n",
    "        if isa(res, PyObject)\n",
    "            return QSym(res)\n",
    "        else\n",
    "            return res\n",
    "        end\n",
    "            \n",
    "    end\n",
    "    \n",
    "    @eval $op{T<:QSymTypes, S<:QSym}(a::T, b::S) = $op(promote(a, b)...)\n",
    "    @eval $op{T<:QSym, S<:QSymTypes}(a::T, b::S) = $op(promote(a, b)...)\n",
    "end\n",
    "\n",
    "\n",
    "\n",
    "promote_rule{T<:QSym, S<:Number}(::Type{T}, ::Type{S}) = QSym\n",
    "promote_rule{T<:QSym}(::Type{T}, ::Type{Symbol}) = QSym\n",
    "promote_rule{T<:QSym}(::Type{T}, ::Type{PyObject}) = QSym\n",
    "\n",
    "## Conversion\n",
    "convert(::Type{QSym}, o::PyCall.PyObject) = QSym(o)\n",
    "convert(::Type{PyObject}, s::QSym) = s.x\n",
    "convert{T<:Number}(::Type{QSym}, x::T) = QSym(convert(PyCall.PyObject, x))\n",
    "convert(::Type{QSym}, x::Symbol) = QSym(x)\n",
    "\n",
    "\n",
    "getindex(x::QSym, k) = x.x[k]\n",
    "\n",
    "\n",
    "Create(s) = QSym(ca.Create(s))\n",
    "Destroy(s) = QSym(ca.Destroy(s))\n",
    "LocalSigma(s, j, k) = QSym(ca.LocalSigma(s, j, k))\n",
    "\n",
    "\n",
    "\n",
    "dag(s::QSym) = QSym(s.x[:dag]())\n",
    "expand(s::QSym)= QSym(s.x[:expand]())\n",
    "simplify(s::QSym)= QSym(s.x[:simplify_scalar]())\n",
    "substitute(s::QSym, d::Dict) = QSym(s.x[:substitute](convert(Dict{PyObject, PyObject}, d)))\n",
    "operands(s::QSym) = [QSym(x) for x=s[:operands]]\n",
    "\n",
    "\n",
    "\n",
    "function to_csc(o::QSym, full_space=nothing)\n",
    "    if full_space === nothing\n",
    "        full_space = ca.space(o.x)\n",
    "        if full_space == ca.FullSpace || full_space == ca.TrivialSpace\n",
    "            error(\"Need to provide a specific space for representation\")\n",
    "        end \n",
    "    end\n",
    "    dim = -1\n",
    "    try\n",
    "        dim = full_space[:dimension]\n",
    "    catch\n",
    "        error(\"Need to specify a dimension for all degrees of freedom of space $(full_space[:__str__]())\")\n",
    "    end\n",
    "    oqt = o[:to_qutip](full_space)\n",
    "    nnz = oqt[:data][:nnz]\n",
    "    SparseMatrixCSC(dim, dim, int(oqt[:data][:indptr]+1), int(oqt[:data][:indices]+1), oqt[:data][:data]).'\n",
    "end\n",
    "\n",
    "end\n"
   ]
  },
  {
   "cell_type": "code",
   "execution_count": 124,
   "metadata": {
    "collapsed": false
   },
   "outputs": [
    {
     "data": {
      "text/latex": [
       "$ \\frac{1}{2} \\left( \\beta {a_{{{\\rm 1}}}^\\dagger} +  \\beta {a_{{{\\rm 1}}}}\\right)$"
      ],
      "text/plain": [
       "QNET.QSym{:ScalarTimesOperator}(PyObject ScalarTimesOperator(1/2, OperatorPlus(ScalarTimesOperator(beta, Create(LocalSpace('1', ''))), ScalarTimesOperator(beta, Destroy(LocalSpace('1', ''))))))"
      ]
     },
     "execution_count": 124,
     "metadata": {},
     "output_type": "execute_result"
    }
   ],
   "source": [
    "β2 = convert(QNET.QSym, Sym(:beta))\n",
    "β = QNET.QSym(:beta; real=true)\n",
    "ad = QNET.Create(1)\n",
    "expr =  β * ad\n",
    "expr = (expr + QNET.dag(expr))/2"
   ]
  },
  {
   "cell_type": "code",
   "execution_count": 138,
   "metadata": {
    "collapsed": false
   },
   "outputs": [
    {
     "data": {
      "text/plain": [
       "0"
      ]
     },
     "execution_count": 138,
     "metadata": {},
     "output_type": "execute_result"
    }
   ],
   "source": []
  },
  {
   "cell_type": "code",
   "execution_count": 125,
   "metadata": {
    "collapsed": false
   },
   "outputs": [
    {
     "data": {
      "text/plain": [
       "100"
      ]
     },
     "execution_count": 125,
     "metadata": {},
     "output_type": "execute_result"
    }
   ],
   "source": [
    "ad2 = QNET.Create(2)\n",
    "ad2[:space][:dimension] = 100"
   ]
  },
  {
   "cell_type": "code",
   "execution_count": 126,
   "metadata": {
    "collapsed": false
   },
   "outputs": [
    {
     "data": {
      "text/plain": [
       "100x100 sparse matrix with 99 Complex{Float64} entries:\n",
       "\t[2  ,   1]  =  1.0+0.0im\n",
       "\t[3  ,   2]  =  1.41421+0.0im\n",
       "\t[4  ,   3]  =  1.73205+0.0im\n",
       "\t[5  ,   4]  =  2.0+0.0im\n",
       "\t[6  ,   5]  =  2.23607+0.0im\n",
       "\t[7  ,   6]  =  2.44949+0.0im\n",
       "\t[8  ,   7]  =  2.64575+0.0im\n",
       "\t[9  ,   8]  =  2.82843+0.0im\n",
       "\t[10 ,   9]  =  3.0+0.0im\n",
       "\t[11 ,  10]  =  3.16228+0.0im\n",
       "\t⋮\n",
       "\t[90 ,  89]  =  9.43398+0.0im\n",
       "\t[91 ,  90]  =  9.48683+0.0im\n",
       "\t[92 ,  91]  =  9.53939+0.0im\n",
       "\t[93 ,  92]  =  9.59166+0.0im\n",
       "\t[94 ,  93]  =  9.64365+0.0im\n",
       "\t[95 ,  94]  =  9.69536+0.0im\n",
       "\t[96 ,  95]  =  9.74679+0.0im\n",
       "\t[97 ,  96]  =  9.79796+0.0im\n",
       "\t[98 ,  97]  =  9.84886+0.0im\n",
       "\t[99 ,  98]  =  9.89949+0.0im\n",
       "\t[100,  99]  =  9.94987+0.0im"
      ]
     },
     "execution_count": 126,
     "metadata": {},
     "output_type": "execute_result"
    }
   ],
   "source": [
    "ad2s = QNET.to_csc(ad2)"
   ]
  },
  {
   "cell_type": "code",
   "execution_count": 136,
   "metadata": {
    "collapsed": false
   },
   "outputs": [
    {
     "name": "stdout",
     "output_type": "stream",
     "text": [
      "  0.000158 seconds\n",
      "  0.000091 seconds\n"
     ]
    }
   ],
   "source": [
    "dim = size(ad2s, 1)\n",
    "y = zeros(Complex128, dim)\n",
    "x = randn(dim) + 1im * randn(dim)\n",
    "@time for k=1:100 At_mul_B!(y, ad2s, x) end\n",
    "@time for k=1:100 A_mul_B!(y, ad2s, x) end"
   ]
  },
  {
   "cell_type": "code",
   "execution_count": 88,
   "metadata": {
    "collapsed": false
   },
   "outputs": [
    {
     "data": {
      "text/html": [
       "At_mul_B<i>{TA,S,Tx}</i>(A::<b>SparseMatrixCSC{TA,S}</b>, x::<b>Union{DenseArray{Tx,1},SubArray{Tx,1,A<:DenseArray{T,N},I<:Tuple{Vararg{Union{Colon,Int64,Range{Int64}}}},LD}}</b>) at <a href=\"https://github.com/JuliaLang/julia/tree/cbe1bee3a8f27ba4f349556857bf4615ee5fa68f/base/sparse/linalg.jl#L76\" target=\"_blank\">sparse/linalg.jl:76</a>"
      ],
      "text/plain": [
       "At_mul_B{TA,S,Tx}(A::SparseMatrixCSC{TA,S}, x::Union{DenseArray{Tx,1},SubArray{Tx,1,A<:DenseArray{T,N},I<:Tuple{Vararg{Union{Colon,Int64,Range{Int64}}}},LD}}) at sparse/linalg.jl:76"
      ]
     },
     "execution_count": 88,
     "metadata": {},
     "output_type": "execute_result"
    }
   ],
   "source": []
  },
  {
   "cell_type": "code",
   "execution_count": 20,
   "metadata": {
    "collapsed": false
   },
   "outputs": [
    {
     "ename": "LoadError",
     "evalue": "LoadError: KeyError: dimension not found\nwhile loading In[20], in expression starting on line 1",
     "output_type": "error",
     "traceback": [
      "LoadError: KeyError: dimension not found\nwhile loading In[20], in expression starting on line 1",
      "",
      " in getindex at /Users/nikolas/.julia/v0.4/PyCall/src/PyCall.jl:239",
      " in getindex at /Users/nikolas/.julia/v0.4/PyCall/src/PyCall.jl:244"
     ]
    }
   ],
   "source": [
    "ad2[:space][:dimension]"
   ]
  },
  {
   "cell_type": "code",
   "execution_count": 4,
   "metadata": {
    "collapsed": false
   },
   "outputs": [
    {
     "data": {
      "text/plain": [
       "10"
      ]
     },
     "execution_count": 4,
     "metadata": {},
     "output_type": "execute_result"
    }
   ],
   "source": [
    "ad[:space][:dimension] = 10"
   ]
  },
  {
   "cell_type": "code",
   "execution_count": 39,
   "metadata": {
    "collapsed": false
   },
   "outputs": [
    {
     "data": {
      "text/latex": [
       "Quantum object: dims = [[10], [10]], shape = [10, 10], type = oper, isherm = False\\begin{equation*}\\left(\\begin{array}{*{11}c}0.0 & 0.0 & 0.0 & 0.0 & 0.0 & 0.0 & 0.0 & 0.0 & 0.0 & 0.0\\\\1.0 & 0.0 & 0.0 & 0.0 & 0.0 & 0.0 & 0.0 & 0.0 & 0.0 & 0.0\\\\0.0 & 1.414 & 0.0 & 0.0 & 0.0 & 0.0 & 0.0 & 0.0 & 0.0 & 0.0\\\\0.0 & 0.0 & 1.732 & 0.0 & 0.0 & 0.0 & 0.0 & 0.0 & 0.0 & 0.0\\\\0.0 & 0.0 & 0.0 & 2.0 & 0.0 & 0.0 & 0.0 & 0.0 & 0.0 & 0.0\\\\0.0 & 0.0 & 0.0 & 0.0 & 2.236 & 0.0 & 0.0 & 0.0 & 0.0 & 0.0\\\\0.0 & 0.0 & 0.0 & 0.0 & 0.0 & 2.449 & 0.0 & 0.0 & 0.0 & 0.0\\\\0.0 & 0.0 & 0.0 & 0.0 & 0.0 & 0.0 & 2.646 & 0.0 & 0.0 & 0.0\\\\0.0 & 0.0 & 0.0 & 0.0 & 0.0 & 0.0 & 0.0 & 2.828 & 0.0 & 0.0\\\\0.0 & 0.0 & 0.0 & 0.0 & 0.0 & 0.0 & 0.0 & 0.0 & 3.0 & 0.0\\\\\\end{array}\\right)\\end{equation*}"
      ],
      "text/plain": [
       "PyObject Quantum object: dims = [[10], [10]], shape = [10, 10], type = oper, isherm = False\n",
       "Qobj data =\n",
       "[[ 0.          0.          0.          0.          0.          0.          0.\n",
       "   0.          0.          0.        ]\n",
       " [ 1.          0.          0.          0.          0.          0.          0.\n",
       "   0.          0.          0.        ]\n",
       " [ 0.          1.41421356  0.          0.          0.          0.          0.\n",
       "   0.          0.          0.        ]\n",
       " [ 0.          0.          1.73205081  0.          0.          0.          0.\n",
       "   0.          0.          0.        ]\n",
       " [ 0.          0.          0.          2.          0.          0.          0.\n",
       "   0.          0.          0.        ]\n",
       " [ 0.          0.          0.          0.          2.23606798  0.          0.\n",
       "   0.          0.          0.        ]\n",
       " [ 0.          0.          0.          0.          0.          2.44948974\n",
       "   0.          0.          0.          0.        ]\n",
       " [ 0.          0.          0.          0.          0.          0.\n",
       "   2.64575131  0.          0.          0.        ]\n",
       " [ 0.          0.          0.          0.          0.          0.          0.\n",
       "   2.82842712  0.          0.        ]\n",
       " [ 0.          0.          0.          0.          0.          0.          0.\n",
       "   0.          3.          0.        ]]"
      ]
     },
     "execution_count": 39,
     "metadata": {},
     "output_type": "execute_result"
    }
   ],
   "source": [
    "adq = ad[:to_qutip]()"
   ]
  },
  {
   "cell_type": "code",
   "execution_count": 40,
   "metadata": {
    "collapsed": false
   },
   "outputs": [
    {
     "data": {
      "text/plain": [
       "((9,),(9,),(11,))"
      ]
     },
     "execution_count": 40,
     "metadata": {},
     "output_type": "execute_result"
    }
   ],
   "source": [
    "adq[:data][:data] |> size, adq[:data][:indices]|> size,  adq[:data][:indptr]|> size"
   ]
  },
  {
   "cell_type": "code",
   "execution_count": null,
   "metadata": {
    "collapsed": true
   },
   "outputs": [],
   "source": []
  },
  {
   "cell_type": "code",
   "execution_count": 9,
   "metadata": {
    "collapsed": false
   },
   "outputs": [
    {
     "data": {
      "text/plain": [
       "true"
      ]
     },
     "execution_count": 9,
     "metadata": {},
     "output_type": "execute_result"
    }
   ],
   "source": [
    "(expr - (expr |> QNET.dag)) == 0 "
   ]
  },
  {
   "cell_type": "code",
   "execution_count": null,
   "metadata": {
    "collapsed": true
   },
   "outputs": [],
   "source": [
    "1"
   ]
  },
  {
   "cell_type": "code",
   "execution_count": null,
   "metadata": {
    "collapsed": false
   },
   "outputs": [],
   "source": [
    "QNET.operands(QNET.operands(expr)[2])"
   ]
  },
  {
   "cell_type": "code",
   "execution_count": null,
   "metadata": {
    "collapsed": false
   },
   "outputs": [],
   "source": [
    "QNET.substitute(expr, Dict(β=>1))"
   ]
  },
  {
   "cell_type": "code",
   "execution_count": null,
   "metadata": {
    "collapsed": false
   },
   "outputs": [],
   "source": [
    "map(Sym, collect(expr[:all_symbols]()))"
   ]
  },
  {
   "cell_type": "code",
   "execution_count": null,
   "metadata": {
    "collapsed": false
   },
   "outputs": [],
   "source": [
    "type BLA2{T}\n",
    "end"
   ]
  },
  {
   "cell_type": "code",
   "execution_count": null,
   "metadata": {
    "collapsed": false
   },
   "outputs": [],
   "source": [
    "s\"n\" |> typeof"
   ]
  },
  {
   "cell_type": "code",
   "execution_count": null,
   "metadata": {
    "collapsed": false
   },
   "outputs": [],
   "source": [
    "s = :(:a)"
   ]
  },
  {
   "cell_type": "code",
   "execution_count": null,
   "metadata": {
    "collapsed": false
   },
   "outputs": [],
   "source": [
    "q = :(b($s))"
   ]
  },
  {
   "cell_type": "code",
   "execution_count": null,
   "metadata": {
    "collapsed": false
   },
   "outputs": [],
   "source": [
    "haskey(pn, :tex)"
   ]
  },
  {
   "cell_type": "code",
   "execution_count": null,
   "metadata": {
    "collapsed": false
   },
   "outputs": [],
   "source": [
    "(QNET.QSym(pn) << QNET.QSym(pn))"
   ]
  },
  {
   "cell_type": "code",
   "execution_count": null,
   "metadata": {
    "collapsed": false
   },
   "outputs": [],
   "source": [
    "2 * QNET.QSym(QNET.ca.Create(1))"
   ]
  },
  {
   "cell_type": "code",
   "execution_count": null,
   "metadata": {
    "collapsed": false
   },
   "outputs": [],
   "source": [
    "(QNET.QSym(pn) << QNET.QSym(pn[:series_inverse]()))[:expand]()[:simplify_scalar]()"
   ]
  },
  {
   "cell_type": "code",
   "execution_count": null,
   "metadata": {
    "collapsed": false
   },
   "outputs": [],
   "source": [
    "(2 *Sym(ca.Create(1))) + Sym(ca.Create(1))"
   ]
  },
  {
   "cell_type": "code",
   "execution_count": null,
   "metadata": {
    "collapsed": false
   },
   "outputs": [],
   "source": []
  },
  {
   "cell_type": "code",
   "execution_count": null,
   "metadata": {
    "collapsed": false
   },
   "outputs": [],
   "source": [
    "pn = pnand.PseudoNAND()[:toSLH]()"
   ]
  },
  {
   "cell_type": "code",
   "execution_count": null,
   "metadata": {
    "collapsed": false
   },
   "outputs": [],
   "source": [
    "ca.Create(1)[:dag]()"
   ]
  },
  {
   "cell_type": "code",
   "execution_count": null,
   "metadata": {
    "collapsed": false
   },
   "outputs": [],
   "source": [
    "pn[:L][2,1]"
   ]
  },
  {
   "cell_type": "code",
   "execution_count": null,
   "metadata": {
    "collapsed": true
   },
   "outputs": [],
   "source": []
  }
 ],
 "metadata": {
  "kernelspec": {
   "display_name": "Julia 0.4.1",
   "language": "julia",
   "name": "julia-0.4"
  },
  "language_info": {
   "file_extension": ".jl",
   "mimetype": "application/julia",
   "name": "julia",
   "version": "0.4.1"
  }
 },
 "nbformat": 4,
 "nbformat_minor": 0
}
