{
 "cells": [
  {
   "cell_type": "code",
   "execution_count": 13,
   "metadata": {
    "collapsed": true
   },
   "outputs": [],
   "source": [
    "import atx"
   ]
  },
  {
   "cell_type": "code",
   "execution_count": 14,
   "metadata": {
    "collapsed": true
   },
   "outputs": [],
   "source": [
    "d = atx.connect('http://10.242.55.90:8100')"
   ]
  },
  {
   "cell_type": "code",
   "execution_count": 15,
   "metadata": {
    "collapsed": false
   },
   "outputs": [
    {
     "data": {
      "text/plain": [
       "{u'build': {u'time': u'Aug 12 2016 15:41:29'},\n",
       " u'ios': {u'simulatorVersion': u'9.3.4'},\n",
       " u'os': {u'name': u'iPhone OS', u'version': u'9.3.4'},\n",
       " u'state': u'success'}"
      ]
     },
     "execution_count": 15,
     "metadata": {},
     "output_type": "execute_result"
    }
   ],
   "source": [
    "d.status()"
   ]
  },
  {
   "cell_type": "code",
   "execution_count": 37,
   "metadata": {
    "collapsed": false
   },
   "outputs": [
    {
     "data": {
      "text/plain": [
       "<wda.Session at 0x1111b6e90>"
      ]
     },
     "execution_count": 37,
     "metadata": {},
     "output_type": "execute_result"
    }
   ],
   "source": [
    "d.start_app('com.supercell.magic')"
   ]
  },
  {
   "cell_type": "code",
   "execution_count": 38,
   "metadata": {
    "collapsed": false
   },
   "outputs": [
    {
     "name": "stdout",
     "output_type": "stream",
     "text": [
      "1242\n"
     ]
    },
    {
     "data": {
      "text/plain": [
       "414"
      ]
     },
     "execution_count": 38,
     "metadata": {},
     "output_type": "execute_result"
    }
   ],
   "source": [
    "d.display\n",
    "print min(d.display)\n",
    "min(d._session.window_size())\n",
    "#d.click(100, 100)"
   ]
  },
  {
   "cell_type": "code",
   "execution_count": 39,
   "metadata": {
    "collapsed": false
   },
   "outputs": [
    {
     "name": "stdout",
     "output_type": "stream",
     "text": [
      "2016-08-12 16:00:05.366 INFO  [atx.drivers.mixin: 554] click image: Pattern(name: ./train.2208x1242.png, offset: None)\n",
      "\n"
     ]
    },
    {
     "data": {
      "text/plain": [
       "FindPoint(pos=(89, 903), confidence=0.9999999403953552, method='template', matched=True)"
      ]
     },
     "execution_count": 39,
     "metadata": {},
     "output_type": "execute_result"
    }
   ],
   "source": [
    "d.click_image('train.2208x1242.png')"
   ]
  },
  {
   "cell_type": "code",
   "execution_count": 40,
   "metadata": {
    "collapsed": false
   },
   "outputs": [
    {
     "name": "stdout",
     "output_type": "stream",
     "text": [
      "2016-08-12 16:00:10.574 INFO  [atx.drivers.mixin: 554] click image: Pattern(name: ./left.2208x1242.L170T6.png, offset: (-1.7, -0.06))\n",
      "\n"
     ]
    },
    {
     "data": {
      "text/plain": [
       "FindPoint(pos=(314, 593), confidence=0.9999994039535522, method='template', matched=True)"
      ]
     },
     "execution_count": 40,
     "metadata": {},
     "output_type": "execute_result"
    }
   ],
   "source": [
    "d.click_image('left.2208x1242.L170T6.png')"
   ]
  },
  {
   "cell_type": "code",
   "execution_count": 41,
   "metadata": {
    "collapsed": false
   },
   "outputs": [
    {
     "name": "stdout",
     "output_type": "stream",
     "text": [
      "2016-08-12 16:00:13.597 INFO  [atx.drivers.mixin: 554] click image: Pattern(name: ./left.2208x1242.L170T6.png, offset: (-1.7, -0.06))\n",
      "\n"
     ]
    },
    {
     "data": {
      "text/plain": [
       "FindPoint(pos=(314, 593), confidence=1.0, method='template', matched=True)"
      ]
     },
     "execution_count": 41,
     "metadata": {},
     "output_type": "execute_result"
    }
   ],
   "source": [
    "d.click_image('left.2208x1242.L170T6.png')"
   ]
  },
  {
   "cell_type": "code",
   "execution_count": 42,
   "metadata": {
    "collapsed": false
   },
   "outputs": [
    {
     "name": "stdout",
     "output_type": "stream",
     "text": [
      "2016-08-12 16:00:16.776 INFO  [atx.drivers.mixin: 554] click image: Pattern(name: ./girl.2208x1242.png, offset: None)\n",
      "\n"
     ]
    },
    {
     "data": {
      "text/plain": [
       "FindPoint(pos=(711, 626), confidence=0.9999934434890747, method='template', matched=True)"
      ]
     },
     "execution_count": 42,
     "metadata": {},
     "output_type": "execute_result"
    }
   ],
   "source": [
    "d.click_image('girl.2208x1242.png')"
   ]
  },
  {
   "cell_type": "code",
   "execution_count": 43,
   "metadata": {
    "collapsed": false
   },
   "outputs": [
    {
     "name": "stdout",
     "output_type": "stream",
     "text": [
      "2016-08-12 16:00:21.750 INFO  [atx.drivers.mixin: 554] click image: Pattern(name: ./exit.2208x1242.png, offset: None)\n",
      "\n"
     ]
    },
    {
     "data": {
      "text/plain": [
       "FindPoint(pos=(1839, 76), confidence=1.0, method='template', matched=True)"
      ]
     },
     "execution_count": 43,
     "metadata": {},
     "output_type": "execute_result"
    }
   ],
   "source": [
    "d.click_image('exit.2208x1242.png')"
   ]
  },
  {
   "cell_type": "code",
   "execution_count": 44,
   "metadata": {
    "collapsed": true
   },
   "outputs": [],
   "source": [
    "d.stop_app()"
   ]
  },
  {
   "cell_type": "code",
   "execution_count": null,
   "metadata": {
    "collapsed": true
   },
   "outputs": [],
   "source": []
  }
 ],
 "metadata": {
  "kernelspec": {
   "display_name": "Python 2",
   "language": "python",
   "name": "python2"
  },
  "language_info": {
   "codemirror_mode": {
    "name": "ipython",
    "version": 2
   },
   "file_extension": ".py",
   "mimetype": "text/x-python",
   "name": "python",
   "nbconvert_exporter": "python",
   "pygments_lexer": "ipython2",
   "version": "2.7.10"
  }
 },
 "nbformat": 4,
 "nbformat_minor": 0
}
