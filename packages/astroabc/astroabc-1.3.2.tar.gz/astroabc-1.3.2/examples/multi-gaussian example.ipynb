{
 "cells": [
  {
   "cell_type": "markdown",
   "metadata": {},
   "source": [
    "# Multi-Gaussian example\n",
    "\n",
    "As an introductory example we can use astroABC to find the posterior distribution for some Gaussian distributed data. Although in this case we already know the likelihood this example is to illustrate how to call astroABC and provide user-defined metrics.\n"
   ]
  },
  {
   "cell_type": "code",
   "execution_count": 45,
   "metadata": {
    "collapsed": true
   },
   "outputs": [],
   "source": [
    "# start by importing astroabc and numpy\n",
    "import numpy as np\n",
    "import astroabc"
   ]
  },
  {
   "cell_type": "markdown",
   "metadata": {},
   "source": [
    "We need to provide:\n",
    "\n",
    "- a dataset\n",
    "- a forwards simulating model for the data\n",
    "- a method defining the distance metric.\n",
    "\n",
    "For this example we generate a dataset of a 1000 draws from a 2D multi-Gaussian where the true means are e.g\n",
    "\n",
    "$\\mu_{1,true} = 0.037579, \\, \\mu_{2, true}=0.573537$\n",
    "\n",
    "and we have fixed the covariance matrix to be  a diagonal matrix with $\\sigma_1^2 = \\sigma_2^2 = 0.05$. \n",
    "We can do this using an inbuilt model class in astroabc."
   ]
  },
  {
   "cell_type": "code",
   "execution_count": 46,
   "metadata": {
    "collapsed": false
   },
   "outputs": [],
   "source": [
    "#make the fake data with diagonal covariance\n",
    "means= np.array([0.037579, 0.573537])\n",
    "cov = np.array([0.02,0.1])\n",
    "data = astroabc.Model(\"normal\",1000).make_mock(means,cov)"
   ]
  },
  {
   "cell_type": "markdown",
   "metadata": {},
   "source": [
    "In this example the make_mock method also provides a forwards simulating model for the data. "
   ]
  },
  {
   "cell_type": "code",
   "execution_count": 47,
   "metadata": {
    "collapsed": true
   },
   "outputs": [],
   "source": [
    "#define a method for simulating the data given input parameters\n",
    "model_sim = astroabc.Model(\"normal\",10000).make_mock"
   ]
  },
  {
   "cell_type": "markdown",
   "metadata": {},
   "source": [
    "Next we define a distance metric method. In this example instead of using all of the data (all 1000 draws from a 2D Gaussian) we use the means of the data as a summary statistic and our distance metric is the sum over the difference in the means for the 2D Gaussian "
   ]
  },
  {
   "cell_type": "code",
   "execution_count": 48,
   "metadata": {
    "collapsed": true
   },
   "outputs": [],
   "source": [
    "def dist_metric(d,x):\n",
    "    return np.sum(np.abs(np.mean(x,axis=0) - np.mean(d,axis=0)))"
   ]
  },
  {
   "cell_type": "markdown",
   "metadata": {},
   "source": [
    "Next we specify priors for each of the parameters we want to vary in the sampler. This is done by specifying a list of tuples. The zeroth element in each tuple should be a string specifying the prior for this parameter and the first element should be a list of the hyperparameters needed for this prior.\n",
    "e.g. below we use a normal distribution with mean  0 and variance 0.5 for the first parameter and a uniform distribution from 0.1 - 0.9 for the second parameter."
   ]
  },
  {
   "cell_type": "code",
   "execution_count": 49,
   "metadata": {
    "collapsed": true
   },
   "outputs": [],
   "source": [
    "priors =  [('normal', [0.0,0.1]), ('uniform', [0.1, 0.9])]"
   ]
  },
  {
   "cell_type": "markdown",
   "metadata": {},
   "source": [
    "Next we need to set some keywords for astroABC. This can be done by creating a dictionary of inputs which are passed to the sampler. Many of these entries have defaults and do not need to be specified explicitly.\n",
    "Only the name of the distance metric method needs to be explicity provided as a keyword.\n",
    "The full set of keywords are given in the doc string of the class. Some examples are\n",
    "\n",
    "- tol_type: which specifies the decreasing tolerance levels. \"exp\",\"lin\", \"log\" and \"const\" are options. (default = 'exp')\n",
    "\n",
    "- verbose: level of verbosity, 0 = no printout to screen, 1 = print to screen  (default = 0)\n",
    "\n",
    "- adapt_t: Boolean True/False for adaptive threshold setting (default = False)\n",
    "\n",
    "- threshold: qth quantile used in adaptive threshold setting (default = 75)\n",
    "\n",
    "- pert_kernel: 0 =weighted covariance, 1= Filippi, 2 = TVZ, 3= Leodoit_Wolf (default = 0)\n",
    "\n",
    "- dfunc:method for calculating the distance metric\n",
    "\n",
    "- from_restart: Boolean True/False\n",
    "\n",
    "- restart: string name of restart file\n",
    "\n",
    "- outfile:string specifying name of output file (default = abc_out.txt)\n",
    "\n",
    "- mpi: Boolean True/False (default = False)\n",
    "\n",
    "- mp:Boolean True/False (default = False)\n",
    "\n",
    "- num_proc:number of threads for mp setting (default = None)\n",
    "\n",
    "Please see the doc strings of the astroABC sampler for details on each of these settings."
   ]
  },
  {
   "cell_type": "code",
   "execution_count": 50,
   "metadata": {
    "collapsed": false
   },
   "outputs": [],
   "source": [
    "prop={'dfunc':dist_metric, 'outfile':\"gaussian_example.txt\", 'verbose':1, 'adapt_t': True}"
   ]
  },
  {
   "cell_type": "markdown",
   "metadata": {},
   "source": [
    "Now we are ready to create an instance of our sampler. \n",
    "To do this we just need to specify the following to the astroabc.ABC_class\n",
    "\n",
    "astroabc.ABC_class(number of parameters,number of particles,data,tolerance levels,number of iterations,priors,prop)\n",
    "\n",
    "To begin let's run in serial using 100 particles for 30 iterations with default tolerance levels of a maximum threshold of 0.7 and  a minimum threshold of 0.05:"
   ]
  },
  {
   "cell_type": "code",
   "execution_count": 51,
   "metadata": {
    "collapsed": false
   },
   "outputs": [
    {
     "name": "stdout",
     "output_type": "stream",
     "text": [
      "\t \t\n",
      "\t ########################     astroABC     ########################\t\n",
      "\t \t\n",
      "\t Npart=100 \t numt=25 \t tol=[0.5000,0.0020] exp\n",
      "\t Priors= [('normal', [0.0, 0.1]), ('uniform', [0.1, 0.9])]\n"
     ]
    }
   ],
   "source": [
    "sampler = astroabc.ABC_class(2,100,data,[0.5,0.002],25,priors,**prop)"
   ]
  },
  {
   "cell_type": "markdown",
   "metadata": {},
   "source": [
    "Then we simply begin sampling on our data..."
   ]
  },
  {
   "cell_type": "code",
   "execution_count": 52,
   "metadata": {
    "collapsed": false
   },
   "outputs": [
    {
     "name": "stdout",
     "output_type": "stream",
     "text": [
      "\t Running sampler...\t \n",
      "\t Step: 0 \t tol: 0.5 \t Params: [-0.00016293735448206571, 0.52217979293248551]\n",
      "\t Step: 1 \t tol: 0.353814428765 \t Params: [0.048264109132819186, 0.5563569337505947]\n",
      "\t Step: 2 \t tol: 0.276186464038 \t Params: [0.025584974366035639, 0.58070754217795828]\n",
      "\t Step: 3 \t tol: 0.216363674973 \t Params: [0.030255163959473478, 0.58794187987138047]\n",
      "\t Step: 4 \t tol: 0.190889551422 \t Params: [0.040277666777101935, 0.56393487225279815]\n",
      "\t Step: 5 \t tol: 0.153359562973 \t Params: [0.039306286160370185, 0.56851522343578831]\n",
      "\t Step: 6 \t tol: 0.128463146703 \t Params: [0.043121346205092781, 0.57729286761401999]\n",
      "\t Step: 7 \t tol: 0.111204377817 \t Params: [0.040257342462254188, 0.56809937171859981]\n",
      "\t Step: 8 \t tol: 0.0904448796102 \t Params: [0.043475785485935677, 0.57011869709747265]\n",
      "\t Step: 9 \t tol: 0.0789762626241 \t Params: [0.034331593552310594, 0.56893960364865104]\n",
      "\t Step: 10 \t tol: 0.0693245861078 \t Params: [0.03700345377208468, 0.57377512562268473]\n",
      "\t Step: 11 \t tol: 0.0583577860932 \t Params: [0.032599972024190543, 0.57527983268694949]\n",
      "\t Step: 12 \t tol: 0.0504858314517 \t Params: [0.037652554072274386, 0.57050334424490956]\n",
      "\t Step: 13 \t tol: 0.0422566851657 \t Params: [0.039680205897660449, 0.57045426066319971]\n",
      "\t Step: 14 \t tol: 0.0365668806646 \t Params: [0.040420749404395176, 0.57235712462547017]\n",
      "\t Step: 15 \t tol: 0.0326342034389 \t Params: [0.040092685722271197, 0.5734813496995117]\n",
      "\t Step: 16 \t tol: 0.0258782083719 \t Params: [0.039018343806708516, 0.57123777861412972]\n",
      "\t Step: 17 \t tol: 0.0229235300474 \t Params: [0.037779353239917303, 0.57202250040886649]\n",
      "\t Step: 18 \t tol: 0.019583927685 \t Params: [0.038380216679532342, 0.57249574312519103]\n",
      "\t Step: 19 \t tol: 0.0162333903618 \t Params: [0.038348431734344747, 0.57331376160168979]\n",
      "\t Step: 20 \t tol: 0.0131831797441 \t Params: [0.039207993770714981, 0.57290347766321059]\n",
      "\t Step: 21 \t tol: 0.0110666351801 \t Params: [0.039937088791574739, 0.57191396218577917]\n",
      "\t Step: 22 \t tol: 0.00937334964543 \t Params: [0.039086380745512399, 0.57207651791734393]\n",
      "\t Step: 23 \t tol: 0.00836494293233 \t Params: [0.039572262602676031, 0.57289945171937706]\n",
      "\t Step: 24 \t tol: 0.00746611288388 \t Params: [0.038570973538456739, 0.57331813871459647]\n"
     ]
    }
   ],
   "source": [
    "sampler.sample(model_sim)"
   ]
  },
  {
   "cell_type": "markdown",
   "metadata": {
    "collapsed": true
   },
   "source": [
    "The output above shows the estimated means of the 2D Gaussian averaged over all 100 particles at each iteration, together with the tolerance level. Note above that the sampling may end before 20 iterations if the minimum tolerance level is reached first.\n",
    "Recall that the true parameter values are $\\mu_{1,true} = 0.037579, \\, \\mu_{2, true}=0.573537$"
   ]
  },
  {
   "cell_type": "markdown",
   "metadata": {},
   "source": [
    "# K-Nearest Neighbours estimation for data sample with covariance matrix\n",
    "\n",
    "We could also have created a dataset with a full covariance matrix using "
   ]
  },
  {
   "cell_type": "code",
   "execution_count": 58,
   "metadata": {
    "collapsed": true
   },
   "outputs": [],
   "source": [
    "means= np.array([0.7579, 0.273537])\n",
    "cov = np.array([0.1,0.01,0.01,0.1])\n",
    "data_cov = astroabc.Model(\"normal\",1000).make_mock(means,cov)"
   ]
  },
  {
   "cell_type": "markdown",
   "metadata": {},
   "source": [
    "Keeping model simulation and distance methods the same as above. We can select a different way of estimating the covariance amongst all the particles using k-nearest neighbours. This returns a local covariance estimate and in many cases this reaches convergence faster then using a weighted covariance amongst all particles."
   ]
  },
  {
   "cell_type": "code",
   "execution_count": 62,
   "metadata": {
    "collapsed": true
   },
   "outputs": [],
   "source": [
    "priors =  [('uniform', [0.1,0.9]), ('uniform', [0.1, 0.9])]\n",
    "prop={'dfunc':dist_metric, 'outfile':\"gaussian_example.txt\", 'verbose':1, \\\n",
    "      'adapt_t': True, 'variance_method':4, 'k_near':10 }"
   ]
  },
  {
   "cell_type": "code",
   "execution_count": 63,
   "metadata": {
    "collapsed": false
   },
   "outputs": [
    {
     "name": "stdout",
     "output_type": "stream",
     "text": [
      "\t \t\n",
      "\t ########################     astroABC     ########################\t\n",
      "\t \t\n",
      "\t Npart=100 \t numt=25 \t tol=[0.5000,0.0020] exp\n",
      "\t Priors= [('uniform', [0.1, 0.9]), ('uniform', [0.1, 0.9])]\n"
     ]
    }
   ],
   "source": [
    "sampler = astroabc.ABC_class(2,100,data_cov,[0.5,0.002],25,priors,**prop)"
   ]
  },
  {
   "cell_type": "code",
   "execution_count": 64,
   "metadata": {
    "collapsed": false
   },
   "outputs": [
    {
     "name": "stdout",
     "output_type": "stream",
     "text": [
      "\t Running sampler...\t \n",
      "\t Step: 0 \t tol: 0.5 \t Params: [0.6591580550676166, 0.36767196026619087]\n",
      "\t Step: 1 \t tol: 0.402202418296 \t Params: [0.71371218530645275, 0.30987363467002216]\n",
      "\t Step: 2 \t tol: 0.306427282137 \t Params: [0.71284492635210783, 0.31527459479897713]\n",
      "\t Step: 3 \t tol: 0.2508977892 \t Params: [0.74473914993422785, 0.29838845335247927]\n",
      "\t Step: 4 \t tol: 0.200445843669 \t Params: [0.73909365139990069, 0.26824707434162742]\n",
      "\t Step: 5 \t tol: 0.171713356227 \t Params: [0.75298860019913183, 0.26886179788534714]\n",
      "\t Step: 6 \t tol: 0.134273356043 \t Params: [0.75764783135403446, 0.28254474913316058]\n",
      "\t Step: 7 \t tol: 0.115333409732 \t Params: [0.76673845296050291, 0.27657002002156095]\n",
      "\t Step: 8 \t tol: 0.10438663762 \t Params: [0.769174873432943, 0.27324766031798597]\n",
      "\t Step: 9 \t tol: 0.0878268438411 \t Params: [0.77023386880100175, 0.27553429491709658]\n",
      "\t Step: 10 \t tol: 0.0650449594917 \t Params: [0.7721225530684489, 0.27218726392568543]\n",
      "\t Step: 11 \t tol: 0.0575892424959 \t Params: [0.77588809278913118, 0.27479029668117599]\n",
      "\t Step: 12 \t tol: 0.0476667458158 \t Params: [0.77363185385098432, 0.27795319304465893]\n",
      "\t Step: 13 \t tol: 0.041938390145 \t Params: [0.76781610587836335, 0.27335986823037889]\n",
      "\t Step: 14 \t tol: 0.0337533054932 \t Params: [0.76869485425365225, 0.27548022634269503]\n",
      "\t Step: 15 \t tol: 0.0279063121371 \t Params: [0.76897712468928292, 0.2745058756884543]\n",
      "\t Step: 16 \t tol: 0.0241854137504 \t Params: [0.76996345651693288, 0.27512716486889127]\n",
      "\t Step: 17 \t tol: 0.0202859088855 \t Params: [0.76874936072853017, 0.27804542422173839]\n",
      "\t Step: 18 \t tol: 0.0175613828933 \t Params: [0.76778052423596921, 0.27628221044707074]\n",
      "\t Step: 19 \t tol: 0.0149324161091 \t Params: [0.76945264474796971, 0.27418583004025998]\n",
      "\t Step: 20 \t tol: 0.0112452003084 \t Params: [0.76854862476888353, 0.2746095131954438]\n",
      "\t Step: 21 \t tol: 0.00986680803711 \t Params: [0.7691980686481803, 0.27571357483075654]\n",
      "\t Step: 22 \t tol: 0.00738671489583 \t Params: [0.76954340665234222, 0.27590630642797215]\n",
      "\t Step: 23 \t tol: 0.00617584295439 \t Params: [0.76923884978359336, 0.27565964824285594]\n",
      "\t Step: 24 \t tol: 0.00526665115953 \t Params: [0.76891954878349678, 0.27567743427622499]\n"
     ]
    }
   ],
   "source": [
    "sampler.sample(model_sim)"
   ]
  },
  {
   "cell_type": "markdown",
   "metadata": {},
   "source": [
    "# Running astroABC in parallel"
   ]
  },
  {
   "cell_type": "markdown",
   "metadata": {},
   "source": [
    "To re-do the above analysis in parallel there are two options.\n",
    "For running on a cluster it is best to use the mpi option and at run time specify the number of processors using\n",
    "\n",
    "mpirun -np # \n",
    "\n",
    "To use the mpi option in astroABC simply set 'mpi': True in the keywords for the class. "
   ]
  },
  {
   "cell_type": "code",
   "execution_count": 22,
   "metadata": {
    "collapsed": true
   },
   "outputs": [],
   "source": [
    "prop={'dfunc':dist_metric, 'outfile':\"gaussian_example.txt\", 'verbose':1, 'adapt_t': True, 'mpi': True}"
   ]
  },
  {
   "cell_type": "markdown",
   "metadata": {},
   "source": [
    "You can then run the sample script in the examples folder to run the gaussian example on e.g. 16 processors using\n",
    "\n",
    "$> mpirun -np 16 python gaussian.py gaussian_params.ini"
   ]
  },
  {
   "cell_type": "markdown",
   "metadata": {},
   "source": [
    "For smaller jobs the Python multiprocessing option is available which can spawn multiple processes but which are still bound within a single node.\n",
    "To use the mp option in astroABC simply set 'mp': True in the keywords for the class.\n",
    "An additional option is to specify the number of threads using 'num_proc':number of threads for mp setting.\n",
    "If none is specified then all available threads are used."
   ]
  },
  {
   "cell_type": "code",
   "execution_count": 24,
   "metadata": {
    "collapsed": true
   },
   "outputs": [],
   "source": [
    "#to run on 4 threads\n",
    "prop={'dfunc':dist_metric, 'outfile':\"gaussian_example.txt\", 'verbose':1, 'adapt_t': True, 'mp': True, 'num_proc':4}"
   ]
  },
  {
   "cell_type": "code",
   "execution_count": null,
   "metadata": {
    "collapsed": true
   },
   "outputs": [],
   "source": []
  }
 ],
 "metadata": {
  "kernelspec": {
   "display_name": "Python 2",
   "language": "python",
   "name": "python2"
  },
  "language_info": {
   "codemirror_mode": {
    "name": "ipython",
    "version": 2
   },
   "file_extension": ".py",
   "mimetype": "text/x-python",
   "name": "python",
   "nbconvert_exporter": "python",
   "pygments_lexer": "ipython2",
   "version": "2.7.12"
  }
 },
 "nbformat": 4,
 "nbformat_minor": 0
}
