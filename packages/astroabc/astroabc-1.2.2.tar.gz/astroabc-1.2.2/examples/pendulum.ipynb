{
 "cells": [
  {
   "cell_type": "markdown",
   "metadata": {},
   "source": [
    "# Pendulum\n",
    "\n",
    "In this simple example we compare standard MCMC techniques with ABC. In order to highlight the difference between the two and the relevance of any assumptions we have chosen a very simple physical experimental where data has been taken from a pendulum experiment measuring the period of the pendulum and trying to infer the length of the pendulum and the value for the gravitational constant, $g$. We assume that this experiment was conducted in a noisy laboratory which adds some non-Gaussian noise to the measurements.\n",
    "\n",
    "We have a dataset of measured periods for the pendulum and we also have a simulation method where we can replicate the non-Gaussian noise, however we do not have a way of analytically accounting for this noise in any likelihood. We will also make use of the standard formula\n",
    "\n",
    "$\\tau = \\sqrt{\\frac{L}{g}}$"
   ]
  },
  {
   "cell_type": "code",
   "execution_count": null,
   "metadata": {
    "collapsed": true
   },
   "outputs": [],
   "source": []
  }
 ],
 "metadata": {
  "kernelspec": {
   "display_name": "Python 2",
   "language": "python",
   "name": "python2"
  },
  "language_info": {
   "codemirror_mode": {
    "name": "ipython",
    "version": 2
   },
   "file_extension": ".py",
   "mimetype": "text/x-python",
   "name": "python",
   "nbconvert_exporter": "python",
   "pygments_lexer": "ipython2",
   "version": "2.7.11"
  }
 },
 "nbformat": 4,
 "nbformat_minor": 0
}
