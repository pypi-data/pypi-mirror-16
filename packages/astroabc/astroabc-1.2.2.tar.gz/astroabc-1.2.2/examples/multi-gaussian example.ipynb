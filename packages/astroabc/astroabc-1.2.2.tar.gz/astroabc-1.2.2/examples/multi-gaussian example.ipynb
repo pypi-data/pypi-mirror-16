{
 "cells": [
  {
   "cell_type": "markdown",
   "metadata": {},
   "source": [
    "# Multi-Gaussian example\n",
    "\n",
    "As an introductory example we can use astroABC to find the posterior distribution for some Gaussian distributed data. Although in this case we already know the likelihood this example is to illustrate how to call astroABC and provide user-defined metrics.\n"
   ]
  },
  {
   "cell_type": "code",
   "execution_count": 25,
   "metadata": {
    "collapsed": true
   },
   "outputs": [],
   "source": [
    "# start by importing astroabc and numpy\n",
    "import numpy as np\n",
    "import astroabc"
   ]
  },
  {
   "cell_type": "markdown",
   "metadata": {},
   "source": [
    "We need to provide:\n",
    "\n",
    "- a dataset\n",
    "- a forwards simulating model for the data\n",
    "- a method defining the distance metric.\n",
    "\n",
    "For this example we generate a dataset of a 1000 draws from a 2D multi-Gaussian where the true means are e.g\n",
    "\n",
    "$\\mu_{1,true} = 0.037579, \\, \\mu_{2, true}=0.573537$\n",
    "\n",
    "and we have fixed the covariance matrix to be  a diagonal matrix with $\\sigma_1^2 = \\sigma_2^2 = 0.05$. \n",
    "We can do this using an inbuilt model class in astroabc."
   ]
  },
  {
   "cell_type": "code",
   "execution_count": 26,
   "metadata": {
    "collapsed": false
   },
   "outputs": [],
   "source": [
    "#make the fake data\n",
    "means= np.array([0.037579, 0.573537])\n",
    "data = astroabc.Model(\"normal\",1000).make_mock(means)"
   ]
  },
  {
   "cell_type": "markdown",
   "metadata": {},
   "source": [
    "In this example the make_mock method also provides a forwards simulating model for the data. "
   ]
  },
  {
   "cell_type": "code",
   "execution_count": 27,
   "metadata": {
    "collapsed": true
   },
   "outputs": [],
   "source": [
    "#define a method for simulating the data given input parameters\n",
    "model_sim = astroabc.Model(\"normal\",10000).make_mock"
   ]
  },
  {
   "cell_type": "markdown",
   "metadata": {},
   "source": [
    "Next we define a distance metric method. In this example instead of using all of the data (all 1000 draws from a 2D Gaussian) we use the means of the data as a summary statistic and our distance metric is the sum over the difference in the means for the 2D Gaussian "
   ]
  },
  {
   "cell_type": "code",
   "execution_count": 28,
   "metadata": {
    "collapsed": true
   },
   "outputs": [],
   "source": [
    "def dist_metric(d,x):\n",
    "    return np.sum(np.abs(np.mean(x,axis=0) - np.mean(d,axis=0)))"
   ]
  },
  {
   "cell_type": "markdown",
   "metadata": {},
   "source": [
    "Next we specify priors for each of the parameters we want to vary in the sampler. This is done by specifying a list of tuples. The zeroth element in each tuple should be a string specifying the prior for this parameter and the first element should be a list of the hyperparameters needed for this prior.\n",
    "e.g. below we use a normal distribution with mean  0 and variance 0.5 for the first parameter and a uniform distribution from 0.1 - 0.9 for the second parameter."
   ]
  },
  {
   "cell_type": "code",
   "execution_count": 29,
   "metadata": {
    "collapsed": true
   },
   "outputs": [],
   "source": [
    "priors =  [('normal', [0.0,0.5]), ('uniform', [0.1, 0.9])]"
   ]
  },
  {
   "cell_type": "markdown",
   "metadata": {},
   "source": [
    "Next we need to set some keywords for astroABC. This can be done by creating a dictionary of inputs which are passed to the sampler. Many of these entries have defaults and do not need to be specified explicitly.\n",
    "Only the name of the distance metric method needs to be explicity provided as a keyword.\n",
    "The full set of keywords are given in the doc string of the class. Some examples are\n",
    "\n",
    "- tol_type: which specifies the decreasing tolerance levels. \"exp\",\"lin\", \"log\" and \"const\" are options. (default = 'exp')\n",
    "\n",
    "- verbose: level of verbosity, 0 = no printout to screen, 1 = print to screen  (default = 0)\n",
    "\n",
    "- adapt_t: Boolean True/False for adaptive threshold setting (default = False)\n",
    "\n",
    "- threshold: qth quantile used in adaptive threshold setting (default = 75)\n",
    "\n",
    "- pert_kernel: 0 =weighted covariance, 1= Filippi, 2 = TVZ, 3= Leodoit_Wolf (default = 0)\n",
    "\n",
    "- dfunc:method for calculating the distance metric\n",
    "\n",
    "- from_restart: Boolean True/False\n",
    "\n",
    "- restart: string name of restart file\n",
    "\n",
    "- outfile:string specifying name of output file (default = abc_out.txt)\n",
    "\n",
    "- mpi: Boolean True/False (default = False)\n",
    "\n",
    "- mp:Boolean True/False (default = False)\n",
    "\n",
    "- num_proc:number of threads for mp setting (default = None)\n",
    "\n",
    "Please see the doc strings of the astroABC sampler for details on each of these settings."
   ]
  },
  {
   "cell_type": "code",
   "execution_count": 30,
   "metadata": {
    "collapsed": false
   },
   "outputs": [],
   "source": [
    "prop={'dfunc':dist_metric, 'outfile':\"gaussian_example.txt\", 'verbose':1, 'adapt_t': True}"
   ]
  },
  {
   "cell_type": "markdown",
   "metadata": {},
   "source": [
    "Now we are ready to create an instance of our sampler. \n",
    "To do this we just need to specify the following to the astroabc.ABC_class\n",
    "\n",
    "astroabc.ABC_class(number of parameters,number of particles,data,tolerance levels,number of iterations,priors,prop)\n",
    "\n",
    "To begin let's run in serial using 100 particles for 30 iterations with default tolerance levels of a maximum threshold of 0.7 and  a minimum threshold of 0.05:"
   ]
  },
  {
   "cell_type": "code",
   "execution_count": 19,
   "metadata": {
    "collapsed": false
   },
   "outputs": [
    {
     "name": "stdout",
     "output_type": "stream",
     "text": [
      "\t \t\n",
      "\t ########################     astroABC     ########################\t\n",
      "\t \t\n",
      "\t Npart=100 \t numt=30 \t tol=[0.70,0.01] exp\n",
      "\t Priors= [('normal', [0.0, 0.5]), ('uniform', [0.1, 0.9])]\n"
     ]
    }
   ],
   "source": [
    "sampler = astroabc.ABC_class(2,100,data,[0.7,0.01],30,priors,**prop)"
   ]
  },
  {
   "cell_type": "markdown",
   "metadata": {},
   "source": [
    "Then we simply begin sampling on our data..."
   ]
  },
  {
   "cell_type": "code",
   "execution_count": 20,
   "metadata": {
    "collapsed": false
   },
   "outputs": [
    {
     "name": "stdout",
     "output_type": "stream",
     "text": [
      "\t Running sampler...\t \n",
      "\t Step: 0 \t tol: 0.7 \t Params: [0.036105913495735158, 0.51350995565281299]\n",
      "\t Step: 1 \t tol: 0.552481476079 \t Params: [0.030735942934779738, 0.54171177742180665]\n",
      "\t Step: 2 \t tol: 0.461035151041 \t Params: [0.023759200102021559, 0.54588144274467143]\n",
      "\t Step: 3 \t tol: 0.381780740958 \t Params: [0.034090742420534982, 0.55684416521988855]\n",
      "\t Step: 4 \t tol: 0.320225489753 \t Params: [0.0204295220246925, 0.56418648596605459]\n",
      "\t Step: 5 \t tol: 0.266195049164 \t Params: [0.017333893623035012, 0.55747736326596542]\n",
      "\t Step: 6 \t tol: 0.217438084252 \t Params: [0.031955812034894795, 0.58414395465955671]\n",
      "\t Step: 7 \t tol: 0.182561095516 \t Params: [0.032304787734206267, 0.56821745786451838]\n",
      "\t Step: 8 \t tol: 0.152839596245 \t Params: [0.034423297530541304, 0.5581542550416958]\n",
      "\t Step: 9 \t tol: 0.128215304182 \t Params: [0.039588114760285439, 0.5704658191732489]\n",
      "\t Step: 10 \t tol: 0.111752741786 \t Params: [0.037288405074433609, 0.56809131436704385]\n",
      "\t Step: 11 \t tol: 0.0907983794615 \t Params: [0.03677603250978749, 0.57362269355080353]\n",
      "\t Step: 12 \t tol: 0.0719373586187 \t Params: [0.035708717749885446, 0.57578914166021922]\n",
      "\t Step: 13 \t tol: 0.0582962371273 \t Params: [0.036997621630313254, 0.56917036737563964]\n",
      "\t Step: 14 \t tol: 0.0498466584465 \t Params: [0.034960645053736007, 0.57276288836334255]\n",
      "\t Step: 15 \t tol: 0.0420019399539 \t Params: [0.034210091151285871, 0.57051361405162337]\n",
      "\t Step: 16 \t tol: 0.0380400829599 \t Params: [0.038404792334282754, 0.57350855288387548]\n",
      "\t Step: 17 \t tol: 0.0309800926156 \t Params: [0.037505143375680568, 0.57263857883039004]\n",
      "\t Step: 18 \t tol: 0.025239364345 \t Params: [0.034986364416951556, 0.57066416225201055]\n",
      "\t Step: 19 \t tol: 0.0213191513856 \t Params: [0.035964959814173865, 0.57189828586068336]\n",
      "\t Step: 20 \t tol: 0.0168396366384 \t Params: [0.037537966938219085, 0.57244494001071122]\n",
      "\t Step: 21 \t tol: 0.0150236488064 \t Params: [0.037120543116398619, 0.57124961058106183]\n",
      "\t Step: 22 \t tol: 0.0122046448637 \t Params: [0.036333522370012458, 0.57157907514735173]\n",
      "\t Step: 23 \t tol: 0.0104424975705 \t Params: [0.037099396140841213, 0.57085609709239327]\n",
      "\t Step: 24 \t tol: 0.01 \t Params: [0.036826387362032455, 0.57158736331433579]\n"
     ]
    }
   ],
   "source": [
    "sampler.sample(model_sim)"
   ]
  },
  {
   "cell_type": "markdown",
   "metadata": {
    "collapsed": true
   },
   "source": [
    "The output above shows the estimated means of the 2D Gaussian averaged over all 100 particles at each iteration, together with the tolerance level. Note above that the sampling may end before 20 iterations if the minimum tolerance level is reached first.\n",
    "Recall that the true parameter values are $\\mu_{1,true} = 0.037579, \\, \\mu_{2, true}=0.573537$"
   ]
  },
  {
   "cell_type": "markdown",
   "metadata": {},
   "source": [
    "# Running astroABC in parallel"
   ]
  },
  {
   "cell_type": "markdown",
   "metadata": {},
   "source": [
    "To re-do the above analysis in parallel there are two options.\n",
    "For running on a cluster it is best to use the mpi option and at run time specify the number of processors using\n",
    "\n",
    "mpirun -np # \n",
    "\n",
    "To use the mpi option in astroABC simply set 'mpi': True in the keywords for the class. "
   ]
  },
  {
   "cell_type": "code",
   "execution_count": 22,
   "metadata": {
    "collapsed": true
   },
   "outputs": [],
   "source": [
    "prop={'dfunc':dist_metric, 'outfile':\"gaussian_example.txt\", 'verbose':1, 'adapt_t': True, 'mpi': True}"
   ]
  },
  {
   "cell_type": "markdown",
   "metadata": {},
   "source": [
    "You can then run the sample script in the examples folder to run the gaussian example on e.g. 16 processors using\n",
    "\n",
    "$> mpirun -np 16 python gaussian.py gaussian_params.ini"
   ]
  },
  {
   "cell_type": "markdown",
   "metadata": {},
   "source": [
    "For smaller jobs the Python multiprocessing option is available which can spawn multiple processes but which are still bound within a single node.\n",
    "To use the mp option in astroABC simply set 'mp': True in the keywords for the class.\n",
    "An additional option is to specify the number of threads using 'num_proc':number of threads for mp setting.\n",
    "If none is specified then all available threads are used."
   ]
  },
  {
   "cell_type": "code",
   "execution_count": 24,
   "metadata": {
    "collapsed": true
   },
   "outputs": [],
   "source": [
    "#to run on 4 threads\n",
    "prop={'dfunc':dist_metric, 'outfile':\"gaussian_example.txt\", 'verbose':1, 'adapt_t': True, 'mp': True, 'num_proc':4}"
   ]
  },
  {
   "cell_type": "code",
   "execution_count": null,
   "metadata": {
    "collapsed": true
   },
   "outputs": [],
   "source": []
  }
 ],
 "metadata": {
  "kernelspec": {
   "display_name": "Python 2",
   "language": "python",
   "name": "python2"
  },
  "language_info": {
   "codemirror_mode": {
    "name": "ipython",
    "version": 2
   },
   "file_extension": ".py",
   "mimetype": "text/x-python",
   "name": "python",
   "nbconvert_exporter": "python",
   "pygments_lexer": "ipython2",
   "version": "2.7.12"
  }
 },
 "nbformat": 4,
 "nbformat_minor": 0
}
